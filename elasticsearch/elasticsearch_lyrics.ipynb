{
  "nbformat": 4,
  "nbformat_minor": 0,
  "metadata": {
    "colab": {
      "name": "elasticsearch_lyrics.ipynb",
      "provenance": [],
      "collapsed_sections": [],
      "authorship_tag": "ABX9TyN5T9r+cdl3uPlsEIz1iDOw",
      "include_colab_link": true
    },
    "kernelspec": {
      "name": "python3",
      "display_name": "Python 3"
    },
    "language_info": {
      "name": "python"
    }
  },
  "cells": [
    {
      "cell_type": "markdown",
      "metadata": {
        "id": "view-in-github",
        "colab_type": "text"
      },
      "source": [
        "<a href=\"https://colab.research.google.com/github/ssooni/data_mining_practice/blob/master/elasticsearch/elasticsearch_lyrics.ipynb\" target=\"_parent\"><img src=\"https://colab.research.google.com/assets/colab-badge.svg\" alt=\"Open In Colab\"/></a>"
      ]
    },
    {
      "cell_type": "markdown",
      "metadata": {
        "id": "KENOnCxyOzii"
      },
      "source": [
        "## 개발 환경 구성\n",
        "1. Google Drive mount\n",
        "2. Elastic Search 설치 / 구동"
      ]
    },
    {
      "cell_type": "code",
      "metadata": {
        "colab": {
          "base_uri": "https://localhost:8080/"
        },
        "id": "8CmqHazRHjtp",
        "outputId": "13d9a45a-3ef3-4ad6-9f7b-38742fcfb664"
      },
      "source": [
        "from google.colab import drive\n",
        "import os\n",
        "\n",
        "drive.mount('/content/gdrive/')\n",
        "### 구글 클라우드 컴퓨터에 elastic server 서버 설치를 위한 폴더 생성 \n",
        "!sudo mkdir /content/elasticsearch\n",
        "### 접근 권한 수정\n",
        "!chmod 755 -R elasticsearch\n",
        "### 현재 작업 디렉토리 설정\n",
        "os.chdir('/content/elasticsearch')"
      ],
      "execution_count": null,
      "outputs": [
        {
          "output_type": "stream",
          "text": [
            "Drive already mounted at /content/gdrive/; to attempt to forcibly remount, call drive.mount(\"/content/gdrive/\", force_remount=True).\n",
            "mkdir: cannot create directory ‘/content/elasticsearch’: File exists\n"
          ],
          "name": "stdout"
        }
      ]
    },
    {
      "cell_type": "code",
      "metadata": {
        "colab": {
          "base_uri": "https://localhost:8080/"
        },
        "id": "TO8lAVMeJLi7",
        "outputId": "bcc5f65e-e94d-4b74-c8c9-45a0f0ff125e"
      },
      "source": [
        "### 리눅스용 엘라스틱서치 서버 설치를 위한 패키지 다운로드\n",
        "!wget https://artifacts.elastic.co/downloads/elasticsearch/elasticsearch-7.0.0-linux-x86_64.tar.gz -q\n",
        "### 위에서 다운로드 받은 압축 파일을 해제\n",
        "!tar -xzf elasticsearch-7.0.0-linux-x86_64.tar.gz\n",
        "### 코랩 노트북 환경에서 서버 구동을 위해서 PPID 1의 백그라운드 데몬 프로세스가 해당 폴더에 접근이 가능하도록 소유자 변경\n",
        "!chown -R daemon:daemon elasticsearch-7.0.0\n",
        "### 파이썬 환경에서 구동을 위한 elasticsearch 패키지 설치\n",
        "!pip install elasticsearch"
      ],
      "execution_count": null,
      "outputs": [
        {
          "output_type": "stream",
          "text": [
            "Requirement already satisfied: elasticsearch in /usr/local/lib/python3.7/dist-packages (7.12.1)\n",
            "Requirement already satisfied: certifi in /usr/local/lib/python3.7/dist-packages (from elasticsearch) (2020.12.5)\n",
            "Requirement already satisfied: urllib3<2,>=1.21.1 in /usr/local/lib/python3.7/dist-packages (from elasticsearch) (1.24.3)\n"
          ],
          "name": "stdout"
        }
      ]
    },
    {
      "cell_type": "code",
      "metadata": {
        "id": "mKWvcf1ZJEDy"
      },
      "source": [
        "# 데몬 프로세스로 엘라스틱 서버 개시하기\n",
        "import os\n",
        "from subprocess import Popen, PIPE, STDOUT\n",
        "es = Popen(['elasticsearch-7.0.0/bin/elasticsearch'], \n",
        "                  stdout=PIPE, stderr=STDOUT,\n",
        "                  preexec_fn=lambda: os.setuid(1)  # as daemon\n",
        "                )"
      ],
      "execution_count": null,
      "outputs": []
    },
    {
      "cell_type": "code",
      "metadata": {
        "colab": {
          "base_uri": "https://localhost:8080/"
        },
        "id": "AZAj0pzGJX-L",
        "outputId": "902430cf-2814-4ae7-b249-209fd2cb275b"
      },
      "source": [
        "# 로컬 서버에 엘라스틱 서버와 python을 연결\n",
        "from elasticsearch import Elasticsearch\n",
        "es = Elasticsearch(\"localhost:9200/\")\n",
        "es.info()"
      ],
      "execution_count": null,
      "outputs": [
        {
          "output_type": "execute_result",
          "data": {
            "text/plain": [
              "{'cluster_name': 'elasticsearch',\n",
              " 'cluster_uuid': 'BACxBSShS3Wbh10PULbh8A',\n",
              " 'name': 'c968c350237b',\n",
              " 'tagline': 'You Know, for Search',\n",
              " 'version': {'build_date': '2019-04-05T22:55:32.697037Z',\n",
              "  'build_flavor': 'default',\n",
              "  'build_hash': 'b7e28a7',\n",
              "  'build_snapshot': False,\n",
              "  'build_type': 'tar',\n",
              "  'lucene_version': '8.0.0',\n",
              "  'minimum_index_compatibility_version': '6.0.0-beta1',\n",
              "  'minimum_wire_compatibility_version': '6.7.0',\n",
              "  'number': '7.0.0'}}"
            ]
          },
          "metadata": {
            "tags": []
          },
          "execution_count": 6
        }
      ]
    },
    {
      "cell_type": "code",
      "metadata": {
        "id": "J1Qo7vmfJ2fJ"
      },
      "source": [
        "### set workspace\n",
        "os.chdir('/content/gdrive/My Drive/Colab Notebooks/information_retrieval/text')"
      ],
      "execution_count": null,
      "outputs": []
    },
    {
      "cell_type": "code",
      "metadata": {
        "colab": {
          "base_uri": "https://localhost:8080/"
        },
        "id": "2ZKD23vLLCMn",
        "outputId": "47fc37b1-88cf-4bc1-89f5-f1f5d56215cf"
      },
      "source": [
        "def indexing(es, index_name):\n",
        "    if es.indices.exists(index=index_name):\n",
        "        es.indices.delete(index=index_name)\n",
        "\n",
        "    print(es.indices.create(index=index_name))\n",
        "\n",
        "index_name=\"lyrics\"\n",
        "indexing(es, index_name)"
      ],
      "execution_count": null,
      "outputs": [
        {
          "output_type": "stream",
          "text": [
            "{'acknowledged': True, 'shards_acknowledged': True, 'index': 'lyrics'}\n"
          ],
          "name": "stdout"
        }
      ]
    },
    {
      "cell_type": "markdown",
      "metadata": {
        "id": "AmSDNxw4NHzw"
      },
      "source": [
        "## 영문 가사 데이터 수집\n",
        "1. 빌보드 Chart Hot 100 데이터 \n",
        "  - 1999~2019 사이의 빌보드 Hot 100 차트에 수록된 곡의 가사, 노래명, 작곡가 등의 데이터(97725 건)\n",
        "  - 출처 : https://www.kaggle.com/danield2255/data-on-songs-from-billboard-19992019\n",
        "2. Kaggle API를 이용해서 로컬 서버에 저장 \n",
        "  - 캐글 API Key 발급 후 구글 드리아브에 저장\n",
        "  - 저장된 API Key파일을 이용해서 데이터 다운로드 API \n"
      ]
    },
    {
      "cell_type": "code",
      "metadata": {
        "colab": {
          "base_uri": "https://localhost:8080/"
        },
        "id": "wYnpnfXoLoIS",
        "outputId": "04d8548b-9893-4373-8b34-d23722179629"
      },
      "source": [
        "!mkdir /root/.kaggle/\n",
        "!cp /content/gdrive/MyDrive/kaggle/kaggle.json /root/.kaggle/kaggle.json   # kaggl.json위치 지정\n",
        "!chmod 600 /root/.kaggleA/kaggle.json\n",
        "!kaggle datasets download -d danield2255/data-on-songs-from-billboard-19992019\n",
        "!unzip data-on-songs-from-billboard-19992019.zip"
      ],
      "execution_count": null,
      "outputs": [
        {
          "output_type": "stream",
          "text": [
            "mkdir: cannot create directory ‘/root/.kaggle/’: File exists\n",
            "data-on-songs-from-billboard-19992019.zip: Skipping, found more recently modified local copy (use --force to force download)\n",
            "Archive:  data-on-songs-from-billboard-19992019.zip\n",
            "replace BillboardFromLast20/artistDf.csv? [y]es, [n]o, [A]ll, [N]one, [r]ename: A\n",
            "  inflating: BillboardFromLast20/artistDf.csv  \n",
            "  inflating: BillboardFromLast20/billboardHot100_1999-2019.csv  \n",
            "  inflating: BillboardFromLast20/grammyAlbums_199-2019.csv  \n",
            "  inflating: BillboardFromLast20/grammySongs_1999-2019.csv  \n",
            "  inflating: BillboardFromLast20/riaaAlbumCerts_1999-2019.csv  \n",
            "  inflating: BillboardFromLast20/riaaSingleCerts_1999-2019.csv  \n",
            "  inflating: BillboardFromLast20/songAttributes_1999-2019.csv  \n",
            "  inflating: BillboardFromLast20/spotifyWeeklyTop200Streams.csv  \n"
          ],
          "name": "stdout"
        }
      ]
    },
    {
      "cell_type": "markdown",
      "metadata": {
        "id": "lAcw9bUeM8JM"
      },
      "source": [
        "### File encoding 확인\n",
        "Pandas.DataFrame로 저장하기 위해서 파일인코딩 정보 확인"
      ]
    },
    {
      "cell_type": "code",
      "metadata": {
        "colab": {
          "base_uri": "https://localhost:8080/"
        },
        "id": "tBjLwzjL2cGs",
        "outputId": "34ab48b2-15c7-4c1c-d94b-ea36086a1111"
      },
      "source": [
        "!apt-get install -y file\n",
        "!file -bi ./BillboardFromLast20/billboardHot100_1999-2019.csv"
      ],
      "execution_count": null,
      "outputs": [
        {
          "output_type": "stream",
          "text": [
            "Reading package lists... Done\n",
            "Building dependency tree       \n",
            "Reading state information... Done\n",
            "file is already the newest version (1:5.32-2ubuntu0.4).\n",
            "The following package was automatically installed and is no longer required:\n",
            "  libnvidia-common-460\n",
            "Use 'apt autoremove' to remove it.\n",
            "0 upgraded, 0 newly installed, 0 to remove and 34 not upgraded.\n",
            "text/plain; charset=utf-8\n"
          ],
          "name": "stdout"
        }
      ]
    },
    {
      "cell_type": "code",
      "metadata": {
        "id": "hdPGyxVJQtNd"
      },
      "source": [
        "import pandas as pd\n",
        "lyrics = pd.read_csv(\"./BillboardFromLast20/billboardHot100_1999-2019.csv\", encoding=\"utf-8\", index_col=0)"
      ],
      "execution_count": null,
      "outputs": []
    },
    {
      "cell_type": "code",
      "metadata": {
        "colab": {
          "base_uri": "https://localhost:8080/",
          "height": 589
        },
        "id": "W6tS2rTSRq39",
        "outputId": "1de6dd72-9ea7-49b6-eabb-60307b4c180e"
      },
      "source": [
        "lyrics"
      ],
      "execution_count": null,
      "outputs": [
        {
          "output_type": "execute_result",
          "data": {
            "text/html": [
              "<div>\n",
              "<style scoped>\n",
              "    .dataframe tbody tr th:only-of-type {\n",
              "        vertical-align: middle;\n",
              "    }\n",
              "\n",
              "    .dataframe tbody tr th {\n",
              "        vertical-align: top;\n",
              "    }\n",
              "\n",
              "    .dataframe thead th {\n",
              "        text-align: right;\n",
              "    }\n",
              "</style>\n",
              "<table border=\"1\" class=\"dataframe\">\n",
              "  <thead>\n",
              "    <tr style=\"text-align: right;\">\n",
              "      <th></th>\n",
              "      <th>Artists</th>\n",
              "      <th>Name</th>\n",
              "      <th>Weekly.rank</th>\n",
              "      <th>Peak.position</th>\n",
              "      <th>Weeks.on.chart</th>\n",
              "      <th>Week</th>\n",
              "      <th>Date</th>\n",
              "      <th>Genre</th>\n",
              "      <th>Writing.Credits</th>\n",
              "      <th>Lyrics</th>\n",
              "      <th>Features</th>\n",
              "    </tr>\n",
              "  </thead>\n",
              "  <tbody>\n",
              "    <tr>\n",
              "      <th>1</th>\n",
              "      <td>Lil Nas,</td>\n",
              "      <td>Old Town Road</td>\n",
              "      <td>1</td>\n",
              "      <td>1.0</td>\n",
              "      <td>7.0</td>\n",
              "      <td>2019-07-06</td>\n",
              "      <td>April 5, 2019</td>\n",
              "      <td>Country,Atlanta,Alternative Country,Hip-Hop,Tr...</td>\n",
              "      <td>Jozzy, Atticus ross, Trent reznor, Billy ray c...</td>\n",
              "      <td>Old Town Road Remix \\nOh, oh-oh\\nOh\\nYeah, I'm...</td>\n",
              "      <td>Billy Ray Cyrus</td>\n",
              "    </tr>\n",
              "    <tr>\n",
              "      <th>2</th>\n",
              "      <td>Shawn Mendes, Camila Cabello</td>\n",
              "      <td>Senorita</td>\n",
              "      <td>2</td>\n",
              "      <td>NaN</td>\n",
              "      <td>NaN</td>\n",
              "      <td>2019-07-06</td>\n",
              "      <td>June 21, 2019</td>\n",
              "      <td>Pop</td>\n",
              "      <td>Cashmere cat, Jack patterson, Charli xcx, Benn...</td>\n",
              "      <td>Senorita \\nI love it when you call me senorita...</td>\n",
              "      <td>NaN</td>\n",
              "    </tr>\n",
              "    <tr>\n",
              "      <th>3</th>\n",
              "      <td>Billie Eilish</td>\n",
              "      <td>Bad Guy</td>\n",
              "      <td>3</td>\n",
              "      <td>2.0</td>\n",
              "      <td>13.0</td>\n",
              "      <td>2019-07-06</td>\n",
              "      <td>March 29, 2019</td>\n",
              "      <td>Hip-Hop,Dark Pop,House,Trap,Memes,Alternative ...</td>\n",
              "      <td>Billie eilish, Finneas</td>\n",
              "      <td>bad guy \\nWhite shirt now red, my bloody nose\\...</td>\n",
              "      <td>NaN</td>\n",
              "    </tr>\n",
              "    <tr>\n",
              "      <th>4</th>\n",
              "      <td>Khalid</td>\n",
              "      <td>Talk</td>\n",
              "      <td>4</td>\n",
              "      <td>3.0</td>\n",
              "      <td>20.0</td>\n",
              "      <td>2019-07-06</td>\n",
              "      <td>February 7, 2019</td>\n",
              "      <td>Synth-Pop,Pop</td>\n",
              "      <td>Howard lawrence, Guy lawrence, Khalid</td>\n",
              "      <td>Talk \\nCan we just talk? Can we just talk?\\nTa...</td>\n",
              "      <td>NaN</td>\n",
              "    </tr>\n",
              "    <tr>\n",
              "      <th>5</th>\n",
              "      <td>Ed Sheeran, Justin Bieber</td>\n",
              "      <td>I Don't Care</td>\n",
              "      <td>5</td>\n",
              "      <td>2.0</td>\n",
              "      <td>7.0</td>\n",
              "      <td>2019-07-06</td>\n",
              "      <td>May 10, 2019</td>\n",
              "      <td>Canada,UK,Dance,Dance-Pop,Pop</td>\n",
              "      <td>Ed sheeran, Justin bieber, Shellback, Max mart...</td>\n",
              "      <td>I Don't Care \\nI'm at a party I don't wanna be...</td>\n",
              "      <td>NaN</td>\n",
              "    </tr>\n",
              "    <tr>\n",
              "      <th>...</th>\n",
              "      <td>...</td>\n",
              "      <td>...</td>\n",
              "      <td>...</td>\n",
              "      <td>...</td>\n",
              "      <td>...</td>\n",
              "      <td>...</td>\n",
              "      <td>...</td>\n",
              "      <td>...</td>\n",
              "      <td>...</td>\n",
              "      <td>...</td>\n",
              "      <td>...</td>\n",
              "    </tr>\n",
              "    <tr>\n",
              "      <th>97221</th>\n",
              "      <td>Vitamin C</td>\n",
              "      <td>Smile</td>\n",
              "      <td>95</td>\n",
              "      <td>NaN</td>\n",
              "      <td>NaN</td>\n",
              "      <td>1999-07-12</td>\n",
              "      <td>NaN</td>\n",
              "      <td>Jamaica,Pop</td>\n",
              "      <td>Colleen fitzpatrick, Josh deutsch</td>\n",
              "      <td>Smile \\nHahaha\\nAlright, yeah\\nAlright\\nFirst ...</td>\n",
              "      <td>Lady Saw</td>\n",
              "    </tr>\n",
              "    <tr>\n",
              "      <th>97222</th>\n",
              "      <td>Collective Soul</td>\n",
              "      <td>Heavy</td>\n",
              "      <td>96</td>\n",
              "      <td>73.0</td>\n",
              "      <td>20.0</td>\n",
              "      <td>1999-07-12</td>\n",
              "      <td>NaN</td>\n",
              "      <td>Hockey,Gaming,Soundtrack,Rock</td>\n",
              "      <td>Collective soul</td>\n",
              "      <td>Heavy \\nComplicate this world you wrapped for ...</td>\n",
              "      <td>NaN</td>\n",
              "    </tr>\n",
              "    <tr>\n",
              "      <th>97223</th>\n",
              "      <td>Mary Chapin Carpenter</td>\n",
              "      <td>Almost Home</td>\n",
              "      <td>97</td>\n",
              "      <td>NaN</td>\n",
              "      <td>NaN</td>\n",
              "      <td>1999-07-12</td>\n",
              "      <td>NaN</td>\n",
              "      <td>Country,Pop</td>\n",
              "      <td>Annie roboff, Beth nielsen chapman, Mary chapi...</td>\n",
              "      <td>Almost Home \\nI saw my life this morning\\nLyin...</td>\n",
              "      <td>NaN</td>\n",
              "    </tr>\n",
              "    <tr>\n",
              "      <th>97224</th>\n",
              "      <td>Q</td>\n",
              "      <td>Vivrant Thing</td>\n",
              "      <td>98</td>\n",
              "      <td>NaN</td>\n",
              "      <td>NaN</td>\n",
              "      <td>1999-07-12</td>\n",
              "      <td>NaN</td>\n",
              "      <td>Rap</td>\n",
              "      <td>Q tip, J dilla, Barry white</td>\n",
              "      <td>Vivrant Thing \\nUh check it out now\\nUh no dou...</td>\n",
              "      <td>NaN</td>\n",
              "    </tr>\n",
              "    <tr>\n",
              "      <th>97225</th>\n",
              "      <td>The Offspring</td>\n",
              "      <td>Why Don't You Get A Job?</td>\n",
              "      <td>100</td>\n",
              "      <td>74.0</td>\n",
              "      <td>15.0</td>\n",
              "      <td>1999-07-12</td>\n",
              "      <td>NaN</td>\n",
              "      <td>Ska,Punk Rock,Rock</td>\n",
              "      <td>Dexter holland</td>\n",
              "      <td>Why Don't You Get a Job? \\nMy friend's got a g...</td>\n",
              "      <td>NaN</td>\n",
              "    </tr>\n",
              "  </tbody>\n",
              "</table>\n",
              "<p>97225 rows × 11 columns</p>\n",
              "</div>"
            ],
            "text/plain": [
              "                            Artists  ...         Features\n",
              "1                          Lil Nas,  ...  Billy Ray Cyrus\n",
              "2      Shawn Mendes, Camila Cabello  ...              NaN\n",
              "3                     Billie Eilish  ...              NaN\n",
              "4                            Khalid  ...              NaN\n",
              "5         Ed Sheeran, Justin Bieber  ...              NaN\n",
              "...                             ...  ...              ...\n",
              "97221                     Vitamin C  ...         Lady Saw\n",
              "97222               Collective Soul  ...              NaN\n",
              "97223         Mary Chapin Carpenter  ...              NaN\n",
              "97224                             Q  ...              NaN\n",
              "97225                 The Offspring  ...              NaN\n",
              "\n",
              "[97225 rows x 11 columns]"
            ]
          },
          "metadata": {
            "tags": []
          },
          "execution_count": 14
        }
      ]
    },
    {
      "cell_type": "markdown",
      "metadata": {
        "id": "95sKBufmNWLG"
      },
      "source": [
        "## Stanza 라이브러리 설치\n",
        "Stanza는 Standford NLP Group에서 제공하는 NLP Core 라이브러리로 Tokenization, Lemma, Sentiment 분석 등 NLP 전반적으로 사용하는 모듈을 제공  \n",
        "[Statnza 공식 홈페이지]( https://stanfordnlp.github.io/stanza/)"
      ]
    },
    {
      "cell_type": "code",
      "metadata": {
        "id": "pipSrmiuWkXw"
      },
      "source": [
        "!pip install stanza"
      ],
      "execution_count": null,
      "outputs": []
    },
    {
      "cell_type": "code",
      "metadata": {
        "id": "GU7q-ZiJR4cw"
      },
      "source": [
        "import stanza\n",
        "stanza.download('en')       # This downloads the English models for the neural pipeline\n",
        "nlp = stanza.Pipeline(processors='tokenize,pos', lang='en', tokenize_no_ssplit=False, tokenize_pretokenized = True)"
      ],
      "execution_count": null,
      "outputs": []
    },
    {
      "cell_type": "markdown",
      "metadata": {
        "id": "QdG-RnFuN5-d"
      },
      "source": [
        "### DataFrame to JSON\n",
        "엘라스틱 서치에서 사용하는 JSON 형태로 DataFrame을 변환한다."
      ]
    },
    {
      "cell_type": "code",
      "metadata": {
        "colab": {
          "base_uri": "https://localhost:8080/"
        },
        "id": "lPX_7-3lR1ib",
        "outputId": "785cbfdb-4794-466e-80de-7a4887384f41"
      },
      "source": [
        "import json\n",
        "result = lyrics.to_json(orient=\"index\")\n",
        "lyrics_json = json.loads(result)\n",
        "print(lyrics_json[\"1\"])"
      ],
      "execution_count": null,
      "outputs": [
        {
          "output_type": "stream",
          "text": [
            "{'Artists': 'Lil Nas,', 'Name': 'Old Town Road', 'Weekly.rank': 1, 'Peak.position': 1.0, 'Weeks.on.chart': 7.0, 'Week': '2019-07-06', 'Date': 'April 5, 2019', 'Genre': 'Country,Atlanta,Alternative Country,Hip-Hop,Trap,Memes,Remix,Country Rap,Rap', 'Writing.Credits': 'Jozzy, Atticus ross, Trent reznor, Billy ray cyrus, Lil nas x', 'Lyrics': \"Old Town Road Remix \\nOh, oh-oh\\nOh\\nYeah, I'm gonna take my horse to the old town road\\nI'm gonna ride til I can't no more\\nI'm gonna take my horse to the old town road\\nI'm gonna ride til I can't no more\\nKio, Kio\\nI got the horses in the back\\nHorse tack is attached\\nHat is matte black\\nGot the boots that's black to match\\nRiding on a horse, ha\\nYou can whip your Porsche\\nI been in the valley\\nYou ain't been up off that porch, now\\nCan't nobody tell me nothin'\\nYou can't tell me nothin'\\nCan't nobody tell me nothin'\\nYou can't tell me nothin'\\nRiding on a tractor\\nLean all in my bladder\\nCheated on my baby\\nYou can go and ask her\\nMy life is a movie\\nBull riding and boobies\\nCowboy hat from Gucci\\nWrangler on my booty\\nCan't nobody tell me nothin'\\nYou can't tell me nothin'\\nCan't nobody tell me nothin'\\nYou can't tell me nothin'\\nYeah, I'm gonna take my horse to the old town road\\nI'm gonna ride til I can't no more\\nI'm gonna take my horse to the old town road\\nI'm gonna ride til I can't no more\\nHat down, cross town, living like a rockstar\\nSpent a lot of money on my brand new guitar\\nBaby's got a habit: diamond rings and Fendi sports bras\\nRiding down Rodeo in my Maserati sports car\\nGot no stress, I've been through all that\\nI'm like a Marlboro Man so I kick on back\\nWish I could roll on back to that old town road\\nI wanna ride til I can't no more\\nYeah, I'm gonna take my horse to the old town road\\nI'm gonna ride til I can't no more\\nI'm gonna take my horse to the old town road\\nI'm gonna ride til I can't no more\\n\", 'Features': 'Billy Ray Cyrus'}\n"
          ],
          "name": "stdout"
        }
      ]
    },
    {
      "cell_type": "code",
      "metadata": {
        "id": "H2JJx6RpcGku"
      },
      "source": [
        "for i, key in enumerate(lyrics_json):\n",
        "  doc = nlp(lyrics_json[key][\"Lyrics\"])\n",
        "  sentences = list()\n",
        "  for i, sentence in enumerate(doc.sentences):    \n",
        "    sentences.append(sentence.text + \".\")\n",
        "  lyrics_json[key][\"Lyrics\"] = \" \".join(sentences)"
      ],
      "execution_count": null,
      "outputs": []
    },
    {
      "cell_type": "markdown",
      "metadata": {
        "id": "4tP1pwbhP0Ev"
      },
      "source": [
        "### Indexing \n",
        "Elastic Search에 문서를 저장하며 Index를 생성한다."
      ]
    },
    {
      "cell_type": "code",
      "metadata": {
        "colab": {
          "base_uri": "https://localhost:8080/"
        },
        "id": "5vCgvkIxQhrp",
        "outputId": "ad4f931a-3563-48d6-a6bf-3189bdebeda2"
      },
      "source": [
        "# 색인화 진행\n",
        "for i, idx in enumerate(lyrics_json):\n",
        "    es.index(index = index_name, doc_type= 'string', body=lyrics_json[idx])\n"
      ],
      "execution_count": null,
      "outputs": [
        {
          "output_type": "stream",
          "text": [
            "/usr/local/lib/python3.7/dist-packages/elasticsearch/connection/base.py:200: ElasticsearchWarning: [types removal] Specifying types in document index requests is deprecated, use the typeless endpoints instead (/{index}/_doc/{id}, /{index}/_doc, or /{index}/_create/{id}).\n",
            "  warnings.warn(message, category=ElasticsearchWarning)\n"
          ],
          "name": "stderr"
        }
      ]
    },
    {
      "cell_type": "code",
      "metadata": {
        "colab": {
          "base_uri": "https://localhost:8080/"
        },
        "id": "JLT3mr5AS7Uk",
        "outputId": "fe0988e9-e0b7-4b92-80c1-e9b79ecfbea5"
      },
      "source": [
        "es.indices.refresh(index=index_name)\n",
        "results = es.search(index=index_name, body={'from':0, 'size':10, 'query': {'match':{'Lyrics':'Love'}}})\n",
        "for result in results['hits']['hits']:\n",
        "    print('score:', result['_score'], 'source:', result['_source'])"
      ],
      "execution_count": null,
      "outputs": [
        {
          "output_type": "stream",
          "text": [
            "score: 1.6539348 source: {'Artists': 'Childish Gambino', 'Name': 'Summertime Magic', 'Weekly.rank': 100, 'Peak.position': 44.0, 'Weeks.on.chart': 5.0, 'Week': '2018-09-15', 'Date': 'July 11, 2018', 'Genre': 'Alternative R&;B,Hip-Hop,Soul,Bounce,R&;B', 'Writing.Credits': 'Childish gambino, Ludwig goransson', 'Lyrics': \"Summertime Magic \\nYou feel like summertime\\nYou took this heart of mine\\nYou'll be my valentine in the summer, in the summer\\nYou are my only one\\nJust dancin'; having fun\\nOut in the shining sun of the summer, of the summer\\nDo love me, do love me, do\\nDo love me, do love me, do yeah\\nI love you\\nDo love me, do love me, do\\nDo love me, do love me, do ohh\\nPut no one else above you\\nDo love me, do love me, do\\nDo love me, do love me, do yeah\\nI need you\\nDo love me, do love me, do\\nDo love me, do love me, do ohh\\nOh!\\nDo love me, do love me, do\\nDo love me, do love me, do\\nI love you\\nDo love me, do love me, do\\nDo love me, do love me, do\\nPut no one else above you\\nDo love me, do love me, do ohh\\nDo love me, do love me, do\\nI need you\\nDo love me, do love me, do\\nDo love me, do love me, do\\nHoo, oh!\\nIs it summertime magic\\nThat makes me wanna dance all night long?\\nIt's your summertime magic\\nMake me feel this way\\nGot me boo'd up\\nGirl, oh you're my world baby!\\nBaby girl woo, ah! my whole world, hoo, oh!\\nYou feel like summertime oh, yes you do\\nYou took this heart of mine you know you did\\nYou'll be my Valentine Valentine\\nIn the summer in the summer\\nIn the summer\\nDo love me, do love me, do\\nDo love me, do love me, do\\nI love you\\nDo love me, do love me, do\\nDo love me, do love me, do\\nPut no one else above you\\nDo love me, do love me, do\\nDo love me, do love me, do\\nYour style, your braids, your eyes\\nDo love me, do love me, do\\nDo love me, do love me, do\\nSo summertime\\nDo love me, do love me, do\\nDo love me, do love me, do\\nAll I wanna do is let you shine\\nDo love me, do love me, do\\nDo love me, do love me, do\\nI love you\\nDo love me, do love me, do\\nDo love me, do love me, do\\nPut no one else above you\\nDo love me, do love me, do\\nDo love me, do love me, do\\nIt's your summertime\\nIt's your summertime magic\\n\", 'Features': None}\n",
            "score: 1.6539348 source: {'Artists': 'Childish Gambino', 'Name': 'Summertime Magic', 'Weekly.rank': 100, 'Peak.position': 44.0, 'Weeks.on.chart': 4.0, 'Week': '2018-08-18', 'Date': 'July 11, 2018', 'Genre': 'Alternative R&;B,Hip-Hop,Soul,Bounce,R&;B', 'Writing.Credits': 'Childish gambino, Ludwig goransson', 'Lyrics': \"Summertime Magic \\nYou feel like summertime\\nYou took this heart of mine\\nYou'll be my valentine in the summer, in the summer\\nYou are my only one\\nJust dancin'; having fun\\nOut in the shining sun of the summer, of the summer\\nDo love me, do love me, do\\nDo love me, do love me, do yeah\\nI love you\\nDo love me, do love me, do\\nDo love me, do love me, do ohh\\nPut no one else above you\\nDo love me, do love me, do\\nDo love me, do love me, do yeah\\nI need you\\nDo love me, do love me, do\\nDo love me, do love me, do ohh\\nOh!\\nDo love me, do love me, do\\nDo love me, do love me, do\\nI love you\\nDo love me, do love me, do\\nDo love me, do love me, do\\nPut no one else above you\\nDo love me, do love me, do ohh\\nDo love me, do love me, do\\nI need you\\nDo love me, do love me, do\\nDo love me, do love me, do\\nHoo, oh!\\nIs it summertime magic\\nThat makes me wanna dance all night long?\\nIt's your summertime magic\\nMake me feel this way\\nGot me boo'd up\\nGirl, oh you're my world baby!\\nBaby girl woo, ah! my whole world, hoo, oh!\\nYou feel like summertime oh, yes you do\\nYou took this heart of mine you know you did\\nYou'll be my Valentine Valentine\\nIn the summer in the summer\\nIn the summer\\nDo love me, do love me, do\\nDo love me, do love me, do\\nI love you\\nDo love me, do love me, do\\nDo love me, do love me, do\\nPut no one else above you\\nDo love me, do love me, do\\nDo love me, do love me, do\\nYour style, your braids, your eyes\\nDo love me, do love me, do\\nDo love me, do love me, do\\nSo summertime\\nDo love me, do love me, do\\nDo love me, do love me, do\\nAll I wanna do is let you shine\\nDo love me, do love me, do\\nDo love me, do love me, do\\nI love you\\nDo love me, do love me, do\\nDo love me, do love me, do\\nPut no one else above you\\nDo love me, do love me, do\\nDo love me, do love me, do\\nIt's your summertime\\nIt's your summertime magic\\n\", 'Features': None}\n",
            "score: 1.6539348 source: {'Artists': 'Childish Gambino', 'Name': 'Summertime Magic', 'Weekly.rank': 79, 'Peak.position': 44.0, 'Weeks.on.chart': 3.0, 'Week': '2018-08-11', 'Date': 'July 11, 2018', 'Genre': 'Alternative R&;B,Hip-Hop,Soul,Bounce,R&;B', 'Writing.Credits': 'Childish gambino, Ludwig goransson', 'Lyrics': \"Summertime Magic \\nYou feel like summertime\\nYou took this heart of mine\\nYou'll be my valentine in the summer, in the summer\\nYou are my only one\\nJust dancin'; having fun\\nOut in the shining sun of the summer, of the summer\\nDo love me, do love me, do\\nDo love me, do love me, do yeah\\nI love you\\nDo love me, do love me, do\\nDo love me, do love me, do ohh\\nPut no one else above you\\nDo love me, do love me, do\\nDo love me, do love me, do yeah\\nI need you\\nDo love me, do love me, do\\nDo love me, do love me, do ohh\\nOh!\\nDo love me, do love me, do\\nDo love me, do love me, do\\nI love you\\nDo love me, do love me, do\\nDo love me, do love me, do\\nPut no one else above you\\nDo love me, do love me, do ohh\\nDo love me, do love me, do\\nI need you\\nDo love me, do love me, do\\nDo love me, do love me, do\\nHoo, oh!\\nIs it summertime magic\\nThat makes me wanna dance all night long?\\nIt's your summertime magic\\nMake me feel this way\\nGot me boo'd up\\nGirl, oh you're my world baby!\\nBaby girl woo, ah! my whole world, hoo, oh!\\nYou feel like summertime oh, yes you do\\nYou took this heart of mine you know you did\\nYou'll be my Valentine Valentine\\nIn the summer in the summer\\nIn the summer\\nDo love me, do love me, do\\nDo love me, do love me, do\\nI love you\\nDo love me, do love me, do\\nDo love me, do love me, do\\nPut no one else above you\\nDo love me, do love me, do\\nDo love me, do love me, do\\nYour style, your braids, your eyes\\nDo love me, do love me, do\\nDo love me, do love me, do\\nSo summertime\\nDo love me, do love me, do\\nDo love me, do love me, do\\nAll I wanna do is let you shine\\nDo love me, do love me, do\\nDo love me, do love me, do\\nI love you\\nDo love me, do love me, do\\nDo love me, do love me, do\\nPut no one else above you\\nDo love me, do love me, do\\nDo love me, do love me, do\\nIt's your summertime\\nIt's your summertime magic\\n\", 'Features': None}\n",
            "score: 1.6539348 source: {'Artists': 'Childish Gambino', 'Name': 'Summertime Magic', 'Weekly.rank': 69, 'Peak.position': 44.0, 'Weeks.on.chart': 2.0, 'Week': '2018-08-04', 'Date': 'July 11, 2018', 'Genre': 'Alternative R&;B,Hip-Hop,Soul,Bounce,R&;B', 'Writing.Credits': 'Childish gambino, Ludwig goransson', 'Lyrics': \"Summertime Magic \\nYou feel like summertime\\nYou took this heart of mine\\nYou'll be my valentine in the summer, in the summer\\nYou are my only one\\nJust dancin'; having fun\\nOut in the shining sun of the summer, of the summer\\nDo love me, do love me, do\\nDo love me, do love me, do yeah\\nI love you\\nDo love me, do love me, do\\nDo love me, do love me, do ohh\\nPut no one else above you\\nDo love me, do love me, do\\nDo love me, do love me, do yeah\\nI need you\\nDo love me, do love me, do\\nDo love me, do love me, do ohh\\nOh!\\nDo love me, do love me, do\\nDo love me, do love me, do\\nI love you\\nDo love me, do love me, do\\nDo love me, do love me, do\\nPut no one else above you\\nDo love me, do love me, do ohh\\nDo love me, do love me, do\\nI need you\\nDo love me, do love me, do\\nDo love me, do love me, do\\nHoo, oh!\\nIs it summertime magic\\nThat makes me wanna dance all night long?\\nIt's your summertime magic\\nMake me feel this way\\nGot me boo'd up\\nGirl, oh you're my world baby!\\nBaby girl woo, ah! my whole world, hoo, oh!\\nYou feel like summertime oh, yes you do\\nYou took this heart of mine you know you did\\nYou'll be my Valentine Valentine\\nIn the summer in the summer\\nIn the summer\\nDo love me, do love me, do\\nDo love me, do love me, do\\nI love you\\nDo love me, do love me, do\\nDo love me, do love me, do\\nPut no one else above you\\nDo love me, do love me, do\\nDo love me, do love me, do\\nYour style, your braids, your eyes\\nDo love me, do love me, do\\nDo love me, do love me, do\\nSo summertime\\nDo love me, do love me, do\\nDo love me, do love me, do\\nAll I wanna do is let you shine\\nDo love me, do love me, do\\nDo love me, do love me, do\\nI love you\\nDo love me, do love me, do\\nDo love me, do love me, do\\nPut no one else above you\\nDo love me, do love me, do\\nDo love me, do love me, do\\nIt's your summertime\\nIt's your summertime magic\\n\", 'Features': None}\n",
            "score: 1.6539348 source: {'Artists': 'Childish Gambino', 'Name': 'Summertime Magic', 'Weekly.rank': 44, 'Peak.position': None, 'Weeks.on.chart': None, 'Week': '2018-07-28', 'Date': 'July 11, 2018', 'Genre': 'Alternative R&;B,Hip-Hop,Soul,Bounce,R&;B', 'Writing.Credits': 'Childish gambino, Ludwig goransson', 'Lyrics': \"Summertime Magic \\nYou feel like summertime\\nYou took this heart of mine\\nYou'll be my valentine in the summer, in the summer\\nYou are my only one\\nJust dancin'; having fun\\nOut in the shining sun of the summer, of the summer\\nDo love me, do love me, do\\nDo love me, do love me, do yeah\\nI love you\\nDo love me, do love me, do\\nDo love me, do love me, do ohh\\nPut no one else above you\\nDo love me, do love me, do\\nDo love me, do love me, do yeah\\nI need you\\nDo love me, do love me, do\\nDo love me, do love me, do ohh\\nOh!\\nDo love me, do love me, do\\nDo love me, do love me, do\\nI love you\\nDo love me, do love me, do\\nDo love me, do love me, do\\nPut no one else above you\\nDo love me, do love me, do ohh\\nDo love me, do love me, do\\nI need you\\nDo love me, do love me, do\\nDo love me, do love me, do\\nHoo, oh!\\nIs it summertime magic\\nThat makes me wanna dance all night long?\\nIt's your summertime magic\\nMake me feel this way\\nGot me boo'd up\\nGirl, oh you're my world baby!\\nBaby girl woo, ah! my whole world, hoo, oh!\\nYou feel like summertime oh, yes you do\\nYou took this heart of mine you know you did\\nYou'll be my Valentine Valentine\\nIn the summer in the summer\\nIn the summer\\nDo love me, do love me, do\\nDo love me, do love me, do\\nI love you\\nDo love me, do love me, do\\nDo love me, do love me, do\\nPut no one else above you\\nDo love me, do love me, do\\nDo love me, do love me, do\\nYour style, your braids, your eyes\\nDo love me, do love me, do\\nDo love me, do love me, do\\nSo summertime\\nDo love me, do love me, do\\nDo love me, do love me, do\\nAll I wanna do is let you shine\\nDo love me, do love me, do\\nDo love me, do love me, do\\nI love you\\nDo love me, do love me, do\\nDo love me, do love me, do\\nPut no one else above you\\nDo love me, do love me, do\\nDo love me, do love me, do\\nIt's your summertime\\nIt's your summertime magic\\n\", 'Features': None}\n",
            "score: 1.6339093 source: {'Artists': 'Lauv, Troye Sivan', 'Name': \"I'm So Tired...\", 'Weekly.rank': 89, 'Peak.position': 81.0, 'Weeks.on.chart': 6.0, 'Week': '2019-05-25', 'Date': 'January 24, 2019', 'Genre': 'Pop', 'Writing.Credits': 'Lauv, Michael pollack, Troye sivan, Leland, Ozgo', 'Lyrics': \"i'm so tired \\nI'm so tired of love songs, tired of love songs\\nTired of love songs, tired of love\\nJust wanna go home, wanna go home\\nWanna go home, whoa\\nSo tired of love songs, tired of love songs\\nTired of love songs, tired of love\\nJust wanna go home, wanna go home\\nWanna go home, whoa\\nParty, trying my best to meet somebody\\nBut everybody around me is falling in love to our song\\nI, I, oh I, yeah\\nHate it, taking a shot cause I can't take it\\nBut I don't think that they make anything that strong, so I hold on\\nI, I, oh I, yeah\\nI'm so tired of love songs, tired of love songs\\nTired of love songs, tired of love\\nJust wanna go home, wanna go home\\nWanna go home, whoa\\nSo tired of love songs, tired of love songs\\nTired of love songs, tired of love\\nJust wanna go home, wanna go home\\nWanna go home, whoa\\nStrangers, killing my lonely nights with strangers\\nAnd when they leave, I go back to our song, I hold on\\nI, I, oh I\\nHurts like heaven, lost in the sound\\nBuzz cut season like you're still around\\nCan't unmiss you and I need you now\\nYeah, I, I, oh I, yeah\\nI'm so tired of love songs, tired of love songs\\nTired of love songs, tired of love\\nJust wanna go home, wanna go home\\nWanna go home, whoa\\nSo tired of love songs, tired of love songs\\nTired of love songs, tired of love\\nJust wanna go home, wanna go home\\nWanna go home, whoa\\nI'm so tired of love songs\\nTired of love songs, tired of love songs Someone take me home\\nTired of love songs, tired of love\\nJust wanna go home, wanna go home Cause I can't be alone\\nWanna go home, whoa\\nSo tired of love songs, tired of love songs Cause I'm so tired\\nTired of love songs, tired of love\\nJust wanna go home, wanna go home\\nWanna go home, whoa\\n\", 'Features': None}\n",
            "score: 1.6339093 source: {'Artists': 'Lauv, Troye Sivan', 'Name': \"I'm So Tired...\", 'Weekly.rank': 81, 'Peak.position': 81.0, 'Weeks.on.chart': 5.0, 'Week': '2019-05-18', 'Date': 'January 24, 2019', 'Genre': 'Pop', 'Writing.Credits': 'Lauv, Michael pollack, Troye sivan, Leland, Ozgo', 'Lyrics': \"i'm so tired \\nI'm so tired of love songs, tired of love songs\\nTired of love songs, tired of love\\nJust wanna go home, wanna go home\\nWanna go home, whoa\\nSo tired of love songs, tired of love songs\\nTired of love songs, tired of love\\nJust wanna go home, wanna go home\\nWanna go home, whoa\\nParty, trying my best to meet somebody\\nBut everybody around me is falling in love to our song\\nI, I, oh I, yeah\\nHate it, taking a shot cause I can't take it\\nBut I don't think that they make anything that strong, so I hold on\\nI, I, oh I, yeah\\nI'm so tired of love songs, tired of love songs\\nTired of love songs, tired of love\\nJust wanna go home, wanna go home\\nWanna go home, whoa\\nSo tired of love songs, tired of love songs\\nTired of love songs, tired of love\\nJust wanna go home, wanna go home\\nWanna go home, whoa\\nStrangers, killing my lonely nights with strangers\\nAnd when they leave, I go back to our song, I hold on\\nI, I, oh I\\nHurts like heaven, lost in the sound\\nBuzz cut season like you're still around\\nCan't unmiss you and I need you now\\nYeah, I, I, oh I, yeah\\nI'm so tired of love songs, tired of love songs\\nTired of love songs, tired of love\\nJust wanna go home, wanna go home\\nWanna go home, whoa\\nSo tired of love songs, tired of love songs\\nTired of love songs, tired of love\\nJust wanna go home, wanna go home\\nWanna go home, whoa\\nI'm so tired of love songs\\nTired of love songs, tired of love songs Someone take me home\\nTired of love songs, tired of love\\nJust wanna go home, wanna go home Cause I can't be alone\\nWanna go home, whoa\\nSo tired of love songs, tired of love songs Cause I'm so tired\\nTired of love songs, tired of love\\nJust wanna go home, wanna go home\\nWanna go home, whoa\\n\", 'Features': None}\n",
            "score: 1.6339093 source: {'Artists': 'Lauv, Troye Sivan', 'Name': \"I'm So Tired...\", 'Weekly.rank': 83, 'Peak.position': 81.0, 'Weeks.on.chart': 4.0, 'Week': '2019-05-11', 'Date': 'January 24, 2019', 'Genre': 'Pop', 'Writing.Credits': 'Lauv, Michael pollack, Troye sivan, Leland, Ozgo', 'Lyrics': \"i'm so tired \\nI'm so tired of love songs, tired of love songs\\nTired of love songs, tired of love\\nJust wanna go home, wanna go home\\nWanna go home, whoa\\nSo tired of love songs, tired of love songs\\nTired of love songs, tired of love\\nJust wanna go home, wanna go home\\nWanna go home, whoa\\nParty, trying my best to meet somebody\\nBut everybody around me is falling in love to our song\\nI, I, oh I, yeah\\nHate it, taking a shot cause I can't take it\\nBut I don't think that they make anything that strong, so I hold on\\nI, I, oh I, yeah\\nI'm so tired of love songs, tired of love songs\\nTired of love songs, tired of love\\nJust wanna go home, wanna go home\\nWanna go home, whoa\\nSo tired of love songs, tired of love songs\\nTired of love songs, tired of love\\nJust wanna go home, wanna go home\\nWanna go home, whoa\\nStrangers, killing my lonely nights with strangers\\nAnd when they leave, I go back to our song, I hold on\\nI, I, oh I\\nHurts like heaven, lost in the sound\\nBuzz cut season like you're still around\\nCan't unmiss you and I need you now\\nYeah, I, I, oh I, yeah\\nI'm so tired of love songs, tired of love songs\\nTired of love songs, tired of love\\nJust wanna go home, wanna go home\\nWanna go home, whoa\\nSo tired of love songs, tired of love songs\\nTired of love songs, tired of love\\nJust wanna go home, wanna go home\\nWanna go home, whoa\\nI'm so tired of love songs\\nTired of love songs, tired of love songs Someone take me home\\nTired of love songs, tired of love\\nJust wanna go home, wanna go home Cause I can't be alone\\nWanna go home, whoa\\nSo tired of love songs, tired of love songs Cause I'm so tired\\nTired of love songs, tired of love\\nJust wanna go home, wanna go home\\nWanna go home, whoa\\n\", 'Features': None}\n",
            "score: 1.6339093 source: {'Artists': 'Lauv, Troye Sivan', 'Name': \"I'm So Tired...\", 'Weekly.rank': 81, 'Peak.position': 81.0, 'Weeks.on.chart': 3.0, 'Week': '2019-05-04', 'Date': 'January 24, 2019', 'Genre': 'Pop', 'Writing.Credits': 'Lauv, Michael pollack, Troye sivan, Leland, Ozgo', 'Lyrics': \"i'm so tired \\nI'm so tired of love songs, tired of love songs\\nTired of love songs, tired of love\\nJust wanna go home, wanna go home\\nWanna go home, whoa\\nSo tired of love songs, tired of love songs\\nTired of love songs, tired of love\\nJust wanna go home, wanna go home\\nWanna go home, whoa\\nParty, trying my best to meet somebody\\nBut everybody around me is falling in love to our song\\nI, I, oh I, yeah\\nHate it, taking a shot cause I can't take it\\nBut I don't think that they make anything that strong, so I hold on\\nI, I, oh I, yeah\\nI'm so tired of love songs, tired of love songs\\nTired of love songs, tired of love\\nJust wanna go home, wanna go home\\nWanna go home, whoa\\nSo tired of love songs, tired of love songs\\nTired of love songs, tired of love\\nJust wanna go home, wanna go home\\nWanna go home, whoa\\nStrangers, killing my lonely nights with strangers\\nAnd when they leave, I go back to our song, I hold on\\nI, I, oh I\\nHurts like heaven, lost in the sound\\nBuzz cut season like you're still around\\nCan't unmiss you and I need you now\\nYeah, I, I, oh I, yeah\\nI'm so tired of love songs, tired of love songs\\nTired of love songs, tired of love\\nJust wanna go home, wanna go home\\nWanna go home, whoa\\nSo tired of love songs, tired of love songs\\nTired of love songs, tired of love\\nJust wanna go home, wanna go home\\nWanna go home, whoa\\nI'm so tired of love songs\\nTired of love songs, tired of love songs Someone take me home\\nTired of love songs, tired of love\\nJust wanna go home, wanna go home Cause I can't be alone\\nWanna go home, whoa\\nSo tired of love songs, tired of love songs Cause I'm so tired\\nTired of love songs, tired of love\\nJust wanna go home, wanna go home\\nWanna go home, whoa\\n\", 'Features': None}\n",
            "score: 1.6339093 source: {'Artists': 'Lauv, Troye Sivan', 'Name': \"I'm So Tired...\", 'Weekly.rank': 89, 'Peak.position': 81.0, 'Weeks.on.chart': 6.0, 'Week': '2019-05-25', 'Date': 'January 24, 2019', 'Genre': 'Pop', 'Writing.Credits': 'Lauv, Michael pollack, Troye sivan, Leland, Ozgo', 'Lyrics': \"i'm so tired \\nI'm so tired of love songs, tired of love songs\\nTired of love songs, tired of love\\nJust wanna go home, wanna go home\\nWanna go home, whoa\\nSo tired of love songs, tired of love songs\\nTired of love songs, tired of love\\nJust wanna go home, wanna go home\\nWanna go home, whoa\\nParty, trying my best to meet somebody\\nBut everybody around me is falling in love to our song\\nI, I, oh I, yeah\\nHate it, taking a shot cause I can't take it\\nBut I don't think that they make anything that strong, so I hold on\\nI, I, oh I, yeah\\nI'm so tired of love songs, tired of love songs\\nTired of love songs, tired of love\\nJust wanna go home, wanna go home\\nWanna go home, whoa\\nSo tired of love songs, tired of love songs\\nTired of love songs, tired of love\\nJust wanna go home, wanna go home\\nWanna go home, whoa\\nStrangers, killing my lonely nights with strangers\\nAnd when they leave, I go back to our song, I hold on\\nI, I, oh I\\nHurts like heaven, lost in the sound\\nBuzz cut season like you're still around\\nCan't unmiss you and I need you now\\nYeah, I, I, oh I, yeah\\nI'm so tired of love songs, tired of love songs\\nTired of love songs, tired of love\\nJust wanna go home, wanna go home\\nWanna go home, whoa\\nSo tired of love songs, tired of love songs\\nTired of love songs, tired of love\\nJust wanna go home, wanna go home\\nWanna go home, whoa\\nI'm so tired of love songs\\nTired of love songs, tired of love songs Someone take me home\\nTired of love songs, tired of love\\nJust wanna go home, wanna go home Cause I can't be alone\\nWanna go home, whoa\\nSo tired of love songs, tired of love songs Cause I'm so tired\\nTired of love songs, tired of love\\nJust wanna go home, wanna go home\\nWanna go home, whoa\\n\", 'Features': None}\n"
          ],
          "name": "stdout"
        }
      ]
    },
    {
      "cell_type": "code",
      "metadata": {
        "colab": {
          "base_uri": "https://localhost:8080/"
        },
        "id": "4Wp2_IPLgR3c",
        "outputId": "285e1a55-0523-4ad2-ffbc-d79086965c93"
      },
      "source": [
        "es.indices.refresh(index=index_name)\n",
        "query = {\n",
        "  \"bool\": {\n",
        "    \"must\": [\n",
        "      {\n",
        "        \"match\": {\n",
        "          \"Lyrics\": \"Love\"\n",
        "        }\n",
        "      },\n",
        "      {\n",
        "        \"match\": {\n",
        "          \"Weeks.on.chart\": \"1\"\n",
        "        }\n",
        "      }\n",
        "    ]\n",
        "  }\n",
        "}\n",
        "\n",
        "results = es.search(index=index_name, body={'from':0, 'size':10, 'query': query})\n",
        "for result in results['hits']['hits']:\n",
        "    print('score:', result['_score'], 'source:', result['_source'])"
      ],
      "execution_count": null,
      "outputs": [
        {
          "output_type": "stream",
          "text": [
            "score: 2.461847 source: {'Artists': 'Drake', 'Name': 'In My Feelings', 'Weekly.rank': 1, 'Peak.position': 1.0, 'Weeks.on.chart': 1.0, 'Week': '2018-09-22', 'Date': 'June 29, 2018', 'Genre': 'Bounce,Pop,Trap,Canada,R&;B,Rap', 'Writing.Credits': 'Phil triggaman price, Orville bugs can can hall, Magnolia shorty, Lil wayne, Rex zamor, Jim jonsin, Static major, City girls, Deezle, Trapmoneybenny, Drake', 'Lyrics': \"In My Feelings \\nTrap, TrapMoneyBenny\\nThis shit got me in my feelings\\nGotta be real with it, yeah\\nKiki, do you love me? Are you riding?\\nSay you'll never ever leave from beside me\\n'Cause I want ya, and I need ya\\nAnd I'm down for you always\\nKB, do you love me? Are you riding?\\nSay you'll never ever leave from beside me\\n'Cause I want ya, and I need ya\\nAnd I'm down for you always\\nLook, the new me is really still the real me\\nI swear you gotta feel me before they try and kill me\\nThey gotta make some choices, they running out of options\\n'Cause I've been going off and they don't know when it's stoppin'\\nAnd when you get to toppin', I see that you've been learnin'\\nAnd when I take you shoppin', you spend it like you earned it\\nAnd when you popped off on your ex he deserved it\\nI thought you were the one from the jump that confirmed it\\nTrapMoneyBenny\\nI buy you Champagne but you love some Henny\\nFrom the block like you Jenny\\nI know you special, girl, cause I know too many\\n'Resha, do you love me? Are you riding?\\nSay you'll never ever leave from beside me\\n'Cause I want ya, and I need ya\\nAnd I'm down for you always\\nJ.T., do you love me? Are you riding?\\nSay you'll never ever leave from beside me\\n'Cause I want ya, and I need ya\\nAnd I'm down for you always\\nTwo bad bitches and we kissing in the Wraith\\nKissin'-kissing in the Wraith, kiss-kissing in the Wraith\\nI need that black card and the code to the safe\\nCode to the safe, code-code to the safe-safe\\nI show him how that neck work\\nFuck that Netflix and chill—what's your net-net-net worth?\\n'Cause I want ya, and I need ya\\nAnd I'm down for you always\\nYeah, yeah, yeah, yeah, he bad\\nAnd I'm down for you always\\nYeah, yeah, yeah, guess who's back\\nAnd I'm down for you always\\nD-down for you al–\\nBlack biggy biggy black biggy black blake\\nD-d-down for you always\\nI got a new boy, and that nigga trade!\\nKiki, do you love me? Are you riding?\\nSay you'll never ever leave from beside me\\n'Cause I want you, and I need you\\nAnd I'm down for you always\\nKB, do you love me? Are you riding?\\nSay you'll never ever leave from beside me\\n'Cause I want ya, and I–\\nSkate and Smoke and Rap\\nNow let me see you\\nBring that ass, bring that ass, bring that ass back!\\nB-bring that ass, bring that ass, bring that ass back!\\nShawty say the nigga that she with can't hit\\nBut shawty, I'ma hit it, hit it like I can't miss\\nNow let me see you\\nClap that ass, you're the only one I love\\nClap that ass, clap-clap that ass!\\nBring that ass back!\\nClap-clap-clap that ass, you're the only one I love\\nLet's go, let's go, let's go!\\nBring that ass back!\\nTrap, TrapMoneyBenny\\nThis shit got me in my feelings\\nGotta be real with it, yup\\nBlaqNmilD, you a genius, you digging me?\\nI don't even care, I need a photo with Drake\\nBecause my Instagram is weak as fuck\\nI'm just being real, my shit, look,–\\n\", 'Features': None}\n",
            "score: 2.3642764 source: {'Artists': 'Ariana Grande', 'Name': 'Thank U, Next', 'Weekly.rank': 1, 'Peak.position': 1.0, 'Weeks.on.chart': 1.0, 'Week': '2018-11-17', 'Date': 'November 3, 2018', 'Genre': 'Dream-Pop,Memes,R&;B,Pop', 'Writing.Credits': 'Victoria monet, Ariana grande, Njomza, Kaydence, Michael mikey foster, Scootie, Tayla parx, Tbhits', 'Lyrics': \"thank u, next \\nThought I'd end up with Sean\\nBut he wasn't a match\\nWrote some songs about Ricky\\nNow I listen and laugh\\nEven almost got married\\nAnd for Pete, I'm so thankful\\nWish I could say, Thank you to Malcolm\\n'Cause he was an angel\\nOne taught me love\\nOne taught me patience\\nAnd one taught me pain\\nNow, I'm so amazing\\nSay I've loved and I've lost\\nBut that's not what I see\\nSo, look what I got\\nLook what you taught me\\nAnd for that, I say\\nThank you, next Next\\nThank you, next Next\\nThank you, next\\nI'm so fucking grateful for my ex\\nThank you, next Next\\nThank you, next Next\\nThank you, next Next\\nI'm so fuckin'—\\nSpend more time with my friends\\nI ain't worried bout nothin'\\nPlus, I met someone else\\nWe having better discussions\\nI know they say I move on too fast\\nBut this one gon' last\\n'Cause her name is Ari\\nAnd I'm so good with that So good with that\\nShe taught me love Love\\nShe taught me patience Patience\\nHow she handles pain Pain\\nThat shit's amazing Yeah, she's amazing\\nI've loved and I've lost Yeah, yeah\\nBut that's not what I see Yeah, yeah\\n'Cause look what I've found Yeah, yeah\\nAin't no need for searching, and for that, I say\\nThank you, next Thank you, next\\nThank you, next Thank you, next\\nThank you, next Thank you\\nI'm so fucking grateful for my ex\\nThank you, next Thank you, next\\nThank you, next Said thank you, next\\nThank you, next Next\\nI'm so fucking grateful for my ex\\nThank you, next\\nThank you, next\\nThank you, next\\nI'm so fuckin'—\\nOne day I'll walk down the aisle\\nHolding hands with my mama\\nI'll be thanking my dad\\n'Cause she grew from the drama\\nOnly wanna do it once, real bad\\nGon' make that shit last\\nGod forbid something happens\\nLeast this song is a smash Song is a smash\\nI've got so much love Love\\nGot so much patience Patience\\nI've learned from the pain Pain\\nI turned out amazing Turned out amazing\\nSay I've loved and I've lost Yeah, yeah\\nBut that's not what I see Yeah, yeah\\n'Cause look what I've found Yeah, yeah\\nAin't no need for searching\\nAnd for that, I say\\nThank you, next Thank you, next\\nThank you, next Thank you, next\\nThank you, next\\nI'm so fucking grateful for my ex\\nThank you, next Thank you, next\\nThank you, next Said thank you, next\\nThank you, next Next\\nI'm so fucking grateful for my ex\\nThank you, next\\nThank you, next\\nThank you, next\\nYeah, yee\\nThank you, next\\nThank you, next\\nThank you, next\\nYeah, yee\\n\", 'Features': None}\n",
            "score: 2.1768022 source: {'Artists': 'Maroon 5', 'Name': 'Girls Like You', 'Weekly.rank': 1, 'Peak.position': 1.0, 'Weeks.on.chart': 1.0, 'Week': '2018-10-27', 'Date': 'May 30, 2018', 'Genre': 'Pop-Rock,East Coast,Remix,Rap,Pop', 'Writing.Credits': 'Cardi b, Gian stone, Cirkut, Starrah, Adam levine, Jason evigan', 'Lyrics': \"Girls Like You Remix \\nSpent 24 hours\\nI need more hours with you\\nYou spent the weekend\\nGetting even, ooh\\nWe spent the late nights\\nMaking things right between us\\nBut now it's all good, babe\\nRoll that backwood, babe, and play me close Yeah\\n'Cause girls like you\\nRun round with guys like me\\n'Til sundown when I come through\\nI need a girl like you, yeah, yeah\\nGirls like you\\nLove fun, and yeah, me too\\nWhat I want when I come through\\nI need a girl like you, yeah, yeah\\nYeah, yeah, yeah, yeah, yeah, yeah\\nI need a girl like you, yeah, yeah\\nYeah yeah yeah, yeah, yeah, yeah\\nI need a girl like you\\nI spent last night\\nOn the last flight to you Ay\\nTook a whole day up\\nTryna get way up, ooh\\nWe spent the daylight\\nTryna make things right between us\\nBut now it's all good, babe\\nRoll that backwood, babe, and play me close\\n'Cause girls like you\\nRun round with guys like me\\n'Til sundown when I come through\\nI need a girl like you, yeah, yeah\\nGirls like you\\nLove fun, and yeah, me too\\nWhat I want when I come through\\nI need a girl like you, yeah, yeah\\nYeah, yeah, yeah, yeah, yeah, yeah\\nI need a girl like you, yeah, yeah\\nYeah, yeah, yeah, yeah, yeah, yeah\\nI need a girl like you, yeah, yeah\\nI need a girl like you, yeah, yeah\\nI need a girl like you\\nMaybe it's six forty-five, maybe I'm barely alive\\nMaybe you've taken my shit for the last time, yeah\\nMaybe I know that I'm drunk, maybe I know you're the one\\nMaybe I'm thinking it's better if you drive\\nNot too long ago, I was dancing for dollars Eeoow\\nKnow it's really real if I let you meet my mama Eeoow\\nYou don't want a girl like me, I'm too crazy\\nBut every other girl you meet is fugazy Okurrrt\\nI'm sure them other girls were nice enough\\nBut you need someone to spice it up\\nSo who you gonna call? Cardi, Cardi\\nCome and rev it up like a Harley, Harley\\nWhy is the best fruit always forbidden? Huh?\\nI'm coming to you now doing 20 over the limit Wooh\\nThe red light, red light stop, stop Skrrt\\nI don't play when it comes to my heart, let's get it though\\nI don't really want a white horse and a carriage Carriage\\nI'm thinking more a white Porsches and carats\\nI need you right here cause every time you're far\\nI play with this kitty like you play wit' your guitar, ah\\n'Cause girls like you\\nRun round with guys like me\\n'Til sundown when I come through\\nI need a girl like you, yeah, yeah\\nGirls like you\\nLove fun, and yeah, me too\\nWhat I want when I come through\\nI need a girl like you, yeah, yeah\\nYeah, yeah, yeah, yeah, yeah, yeah\\nI need a girl like you, yeah, yeah\\nYeah, yeah, yeah, yeah, yeah, yeah\\nI need a girl like you\\n\", 'Features': 'Cardi B'}\n"
          ],
          "name": "stdout"
        }
      ]
    },
    {
      "cell_type": "code",
      "metadata": {
        "colab": {
          "base_uri": "https://localhost:8080/"
        },
        "id": "KQH_j6leh7pG",
        "outputId": "54c47545-8d2a-4801-86bd-365dbb7b0d9b"
      },
      "source": [
        "es.indices.refresh(index=index_name)\n",
        "query = {\n",
        "  \"bool\": {\n",
        "    \"must\": [\n",
        "      {\n",
        "        \"match\": {\n",
        "          \"Lyrics\": \"Sad\"\n",
        "        }\n",
        "      },\n",
        "      {\n",
        "        \"range\": {\n",
        "          \"Week\": {\n",
        "              \"gte\": \"2010||/y\",\n",
        "              \"lte\": \"2011||/y\",\n",
        "              \"format\": \"yyyy\"\n",
        "          }\n",
        "        }\n",
        "      }\n",
        "    ]\n",
        "  }\n",
        "}\n",
        "\n",
        "results = es.search(index=index_name, body={'from':0, 'size':10, 'query': query})\n",
        "for result in results['hits']['hits']:\n",
        "    print('score:', result['_score'], 'source:', result['_source'])"
      ],
      "execution_count": null,
      "outputs": [
        {
          "output_type": "stream",
          "text": [
            "score: 7.4518905 source: {'Artists': 'Glee Cast', 'Name': 'I Love New York / New York, New York', 'Weekly.rank': 81, 'Peak.position': None, 'Weeks.on.chart': None, 'Week': '2011-06-09', 'Date': 'May 24, 2011', 'Genre': 'Pop', 'Writing.Credits': 'Madonna, Stuart price', 'Lyrics': \"I Love New York / New York, New York \\nFinn:\\nI don't like cities\\nBut I like New York\\nSantana:\\nThe famous places to visit are so many\\nFinn:\\nOther places\\nMake me feel like a dork\\nSantana:\\nI told my grandpa I wouldn't miss on any\\nArtie:\\nLos Angeles is for\\nPeople who sleep\\nMercedes:\\nGot to see the whole town right from Yonkers on down to the Bay\\nArtie:\\nParis and London\\nOh baby you can keep\\nSantana:\\nBaby you can keep\\nMercedes:\\nBaby you can keep\\nRachel with Finn and New Directions New Directions:\\nOther cities always make me mad\\nOther places always make me sad\\nNo other city ever made me glad\\nExcept New York, New York\\nIt's a wonderful town New York\\nI love New York\\nArtie and Mercedes with New Directions:\\nI love New York New Directions: New York, New York\\nI love New York New Directions: New York, New York\\nNew York, New York\\nFinn:\\nIf you don't like my attitude\\nThen you can get lost\\nSantana with New Directions Girls:\\nManhattan women are dressed in silk and satin\\nFinn with New Directions Boys:\\nJust go to Texas isn't that where they golf\\nSantana with New Directions Girls:\\nThere's just one thing that's important in Manhattan\\nArtie:\\nNew York is not for little wussies who scream\\nNew Directions Girls:\\nAAAHHH!\\nMercedes:\\nPick up a date\\nMaybe seven Or eight\\nArtie:\\nParis and London\\nOh baby you can keep\\nMercedes with Santana:\\nBaby you can keep\\nNew Directions:\\nBaby you can keep!\\nFinn and Rachel with New Directions New Directions:\\nOther cities always make me mad Mercedes: Make me mad\\nOther places always make me sad Mercedes: Make me sad\\nNo other city ever made me glad\\nExcept New York, New York\\nIt's a wonderful town New York\\nArtie and Mercedes with New Directions:\\nI love New York\\nI love New York New Directions: New York, New York\\nI love New York New Directions: New York, New York\\nBrittany with New Directions Girls:\\nWe've sailed the seas\\nAnd we've been the world over\\nMade the Mandalay\\nWe've seen the Sphinx\\nAnd we've seen the Cliffs of Dover\\nAnd we can safely say\\nRachel:\\nNew York!\\nFinn with New Directions:\\nOther cities always make me mad Mercedes: Ooow!\\nFinn and Rachel with New Directions:\\nOther places always make me sad Mercedes: New York!\\nNo other city ever made me glad except New York, New York\\nIt's a wonderful town New York\\nMercedes:\\nNew York!\\nArtie with New Directions Rachel with New Directions:\\nI love New York\\nI love New York New York, New York\\nI love New York Mercedes: New York now, New York now\\nI love New York\\nNew York, New York\\nNew York, New York\\nMercedes:\\nNew York now, New York now\\nFinn and Rachel with New Directions:\\nNew York, New York!\\n\", 'Features': None}\n",
            "score: 7.2609687 source: {'Artists': 'Justin Bieber', 'Name': 'That Should Be Me', 'Weekly.rank': 92, 'Peak.position': None, 'Weeks.on.chart': None, 'Week': '2010-04-08', 'Date': 'January 30, 2010', 'Genre': 'Canada,Pop', 'Writing.Credits': 'Luke james, Justin bieber, Nasri atweh, Adam messinger', 'Lyrics': \"That Should Be Me \\nEverybody's laughing in my mind\\nRumours spreading bout this other guy\\nDo you do what you did when you did with me? Does he love you the way I can?\\nDid you forget all the plans that you made with me? Cause baby I didn't\\nThat should be me holding your hand\\nThat should be me making you laugh\\nThat should be me, this is so sad\\nThat should be me, that should be me\\nThat should be me feeling your kiss\\nThat should be me buying you gifts\\nThis is so wrong, I can't go on\\n'Til you believe that that should be me, that should be me\\nYou said you needed a little time for my mistakes\\nIt's funny how you used that time to have me replaced\\nDid you think that I wouldn't see you out at the movies? What you doing to me, you're taking him where we used to go\\nNow if you're tryna break my heart, it's working because you know that\\nThat should be me holding your hand\\nThat should be me making you laugh\\nThat should be me, this is so sad\\nThat should be me, that should be me\\nThat should be me feeling your kiss\\nThat should be me buying you gifts\\nThis is so wrong, I can't go on\\n'Til you believe that that should be me\\nI need to know should I fight for love or disarm\\nIt's getting harder to shield this pain in my heart\\nOooh\\nThat should be me holding your hand\\nThat should be me making you laugh\\nThat should be me, this is so sad\\nThat should be me, that should be me\\nThat should be me feeling your kiss\\nThat should be me buying you gifts\\nThis is so wrong, I can't go on\\n'Til you believe that that should be me\\nHolding your hand, that should be me\\nThe one making you laugh oh baby, oh that should be me\\nThat should be me giving you flowers, that should be me talking for hours\\nThat should be me, that should be me, that should be me\\nNever shoulda let you go, I never shoulda let you go\\nThat should be me\\nI'm never gonna let you go\\nThat should be me\\nI'm never shoulda let you go\\nI'm never gonna let you go\\nThat should be me\\nI'm never gonna let you go\\n\", 'Features': None}\n",
            "score: 7.1977196 source: {'Artists': 'Lady Antebellum', 'Name': 'Love This Pain', 'Weekly.rank': 93, 'Peak.position': None, 'Weeks.on.chart': None, 'Week': '2010-01-21', 'Date': 'January 26, 2010', 'Genre': 'Pop,Country', 'Writing.Credits': 'Jason sellers, Marv green', 'Lyrics': \"Love This Pain \\nShe's no good for me, I know that she's, a wildflower\\nShe's got a restlessness, a beautifulness, a thing about her\\nBut here I am again calling her back\\nLetting her drive me crazy\\nIt's like I love this pain, a little too much\\nLove my heart all busted up\\nSomething about her, we just don't work\\nBut I can't walk away\\nIt's like I love this pain\\nIt's just an on again, and off again, situation\\nIt's just striking a match, a tank of gas, combination\\nBut here I am again lighting it up\\nKnowing that she'll just burn me\\nIt's like I love this pain, a little too much\\nLove my heart all busted up\\nSomething about her, we just don't work\\nBut I can't walk away\\nIt's like I love this pain\\nIt's like I love this life\\nWhen nothing's right, yeah something's wrong\\nIt's like I'm just not me\\nIf I can't be a sad, sad song\\nIt's like I love this pain a little too much\\nLove my heart all busted up\\nSomething about her, we just don't work\\nBut I can't walk away\\nIt's like I love this pain\\nOh, yeah, it's like I love this pain\\nI can't walk away, oh no\\nIt's like I love this pain\\n\", 'Features': None}\n",
            "score: 6.326171 source: {'Artists': 'Tony Bennett, Amy Winehouse', 'Name': 'Body And Soul', 'Weekly.rank': 87, 'Peak.position': None, 'Weeks.on.chart': None, 'Week': '2011-09-29', 'Date': 'September 14, 2011', 'Genre': 'Soul,Jazz,R&;B', 'Writing.Credits': 'Johnny green, Frank eyton, Robert sour, Edward heyman', 'Lyrics': \"Body and Soul \\nMy heart is sad and lonely\\nFor you, I sigh, for you, dear only\\nWhy haven't you seen it\\nI'm all for you, body and soul\\nI spend my days in longing\\nAnd wondering why it's me you're wronging\\nI tell you I mean it\\nI'm all for you, body and soul\\nI can't believe it, it's hard to conceive it\\nThat you'd turn away romance\\nAre you pretending, it looks like the ending\\nUnless I could have one more chance to prove, dear\\nMy life a wreck you're making\\nYou know I'm yours for just the taking\\nI'd gladly surrender, myself to you, body and soul\\nAre you pretending, it looks like the ending\\nUnless I could have one more chance to prove, dear\\nMy life a wreck you're making\\nYou know I'm yours for just the taking\\nI'd gladly surrender, myself to you, body and soul\\n\", 'Features': None}\n",
            "score: 6.298596 source: {'Artists': 'Glee Cast', 'Name': 'Gives You Hell', 'Weekly.rank': 92, 'Peak.position': 32.0, 'Weeks.on.chart': 2.0, 'Week': '2010-05-06', 'Date': 'May 18, 2010', 'Genre': 'Screen,Soundtrack,TV,Cover,Pop', 'Writing.Credits': 'Tyson ritter, Nick wheeler', 'Lyrics': 'Gives You Hell \\nI wake up every evening\\nWith a big smile on my face\\nAnd it never feels out of place\\nAnd you\\'re still prob\\'ly workin\\'\\nAt a 9-to-5 pace\\nI wonder how bad that tastes\\nWhen you see my face, hope it gives you hell, hope it gives you hell\\nWhen you walk my way, hope it gives you hell, hope it gives you hell\\nNow where\\'s your picket fence, love?\\nAnd where\\'s that shiny car?\\nAnd did it ever get you far?\\nYou never seemed so tense, love\\nI\\'ve never seen you fall so hard\\nDo you know where you are?\\nAnd truth be told, I miss you\\nAnd truth be told, I\\'m lyin\\'\\nWhen you see my face, hope it gives you hell, hope it gives you hell\\nWhen you walk my way, hope it gives you hell, hope it gives you hell\\nIf you find a man that\\'s worth a damn and treats you well Treats you well\\nThen he\\'s a fool, you\\'re just as well, hope it gives you hell\\nHope it gives you hell\\nTomorrow you\\'ll be thinking to yourself\\nYeah, Where did it all go wrong?\"\\nBut the list goes on and on\\nAnd truth be told, I miss you\\nAnd truth be told, I\\'m lyin\\'\\nWhen you see my face, hope it gives you hell, hope it gives you hell\\nWhen you walk my way, hope it gives you hell, hope it gives you hell\\nIf you find a man that\\'s worth a damn and treats you well Treats you well\\nThen he\\'s a fool, you\\'re just as well, hope it gives you hell\\nNow you\\'ll never see\\nWhat you\\'ve done to me\\nYou can take back your memories\\nThey\\'re no good to me\\nAnd here\\'s all your lies\\nYou can look me in the eyes\\nWith that sad, sad look\\nThat you wear so well\\nWhen you see my face, hope it gives you hell, hope it gives you hell\\nWhen you walk my way, hope it gives you hell, hope it gives you hell\\nIf you find a man that\\'s worth a damn and treats you well Treats you well\\nThen he\\'s a fool, you\\'re just as well, hope it gives you hell\\nWhen you see my face, hope it gives you hell, hope it gives you hell\\nWhen you walk my way, hope it gives you hell, hope it gives you hell\\nWhen you hear this song and sing along, well you\\'ll never tell\\nThen you\\'re a fool, I\\'m just as well, hope it gives you hell\\nWhen you hear this song, I hope that it will give you hell\\nYou can sing along, I hope that it will treat you well\\n', 'Features': None}\n",
            "score: 6.298596 source: {'Artists': 'Glee Cast', 'Name': 'Gives You Hell', 'Weekly.rank': 32, 'Peak.position': None, 'Weeks.on.chart': None, 'Week': '2010-04-29', 'Date': 'May 18, 2010', 'Genre': 'Screen,Soundtrack,TV,Cover,Pop', 'Writing.Credits': 'Tyson ritter, Nick wheeler', 'Lyrics': 'Gives You Hell \\nI wake up every evening\\nWith a big smile on my face\\nAnd it never feels out of place\\nAnd you\\'re still prob\\'ly workin\\'\\nAt a 9-to-5 pace\\nI wonder how bad that tastes\\nWhen you see my face, hope it gives you hell, hope it gives you hell\\nWhen you walk my way, hope it gives you hell, hope it gives you hell\\nNow where\\'s your picket fence, love?\\nAnd where\\'s that shiny car?\\nAnd did it ever get you far?\\nYou never seemed so tense, love\\nI\\'ve never seen you fall so hard\\nDo you know where you are?\\nAnd truth be told, I miss you\\nAnd truth be told, I\\'m lyin\\'\\nWhen you see my face, hope it gives you hell, hope it gives you hell\\nWhen you walk my way, hope it gives you hell, hope it gives you hell\\nIf you find a man that\\'s worth a damn and treats you well Treats you well\\nThen he\\'s a fool, you\\'re just as well, hope it gives you hell\\nHope it gives you hell\\nTomorrow you\\'ll be thinking to yourself\\nYeah, Where did it all go wrong?\"\\nBut the list goes on and on\\nAnd truth be told, I miss you\\nAnd truth be told, I\\'m lyin\\'\\nWhen you see my face, hope it gives you hell, hope it gives you hell\\nWhen you walk my way, hope it gives you hell, hope it gives you hell\\nIf you find a man that\\'s worth a damn and treats you well Treats you well\\nThen he\\'s a fool, you\\'re just as well, hope it gives you hell\\nNow you\\'ll never see\\nWhat you\\'ve done to me\\nYou can take back your memories\\nThey\\'re no good to me\\nAnd here\\'s all your lies\\nYou can look me in the eyes\\nWith that sad, sad look\\nThat you wear so well\\nWhen you see my face, hope it gives you hell, hope it gives you hell\\nWhen you walk my way, hope it gives you hell, hope it gives you hell\\nIf you find a man that\\'s worth a damn and treats you well Treats you well\\nThen he\\'s a fool, you\\'re just as well, hope it gives you hell\\nWhen you see my face, hope it gives you hell, hope it gives you hell\\nWhen you walk my way, hope it gives you hell, hope it gives you hell\\nWhen you hear this song and sing along, well you\\'ll never tell\\nThen you\\'re a fool, I\\'m just as well, hope it gives you hell\\nWhen you hear this song, I hope that it will give you hell\\nYou can sing along, I hope that it will treat you well\\n', 'Features': None}\n",
            "score: 6.2712636 source: {'Artists': 'Glee Cast', 'Name': \"It's Not Unusual\", 'Weekly.rank': 65, 'Peak.position': None, 'Weeks.on.chart': None, 'Week': '2011-10-06', 'Date': 'December 2, 2011', 'Genre': 'Pop', 'Writing.Credits': 'Les reed orchestra, Gordon mills jr', 'Lyrics': \"It's Not Unusual \\nIt's not unusual to be loved by anyone\\nIt's not unusual to have fun with anyone\\nBut when I see you hanging about with anyone\\nIt's not unusual to see me cry\\nI wanna die\\nIt's not unusual to go out at any time\\nBut when I see you out and about, it's such a crime\\nIf you should ever wanna be loved by anyone\\nIt's not unusual, it happens everyday\\nNo matter what you say\\nYou'll find it happens all the time\\nLove will never do\\nWhat you want it to\\nWhy can't this crazy love be mine?\\nIt's not unusual to be mad with anyone\\nIt's not unusual to be sad with anyone\\nBut if I ever find that you've changed at any time\\nIt's not unusual to find that I'm in love with you\\nWhoa-whoa-oh-oh-oh-oh\\nWhoa-whoa-oh-oh\\nWhoa-whoa-whoa-oh-oh\\nWhoa-whoa\\n\", 'Features': None}\n",
            "score: 6.2712636 source: {'Artists': 'Garrett Hedlund, Leighton Meester', 'Name': 'Give In To Me', 'Weekly.rank': 98, 'Peak.position': 79.0, 'Weeks.on.chart': 2.0, 'Week': '2011-02-03', 'Date': 'November 8, 2010', 'Genre': 'Pop', 'Writing.Credits': 'Rose falcon, Billy falcon, Elisha a hoffman', 'Lyrics': \"Give In To Me \\nI'm gonna wear you down\\nI'm gonna make you see\\nI'm gonna get to you\\nYou're gonna give in to me\\nI'm gonna start a fire\\nYou're gonna feel the heat\\nI'm gonna burn for you\\nYou're gonna melt for me\\nCome on, come on\\nInto my arms\\nCome on, come on\\nGive in to me\\nYou're gonna take my hand\\nWhisper the sweetest words\\nAnd if you're ever sad\\nI'll make you laugh\\nI'll chase the hurt\\nMy heart is set on you\\nI don't want no one else\\nAnd if you don't want me\\nI guess i'll be all by myself\\nCome on, come on\\nInto my arms\\nCome on, come on\\nGive in to me\\nI'll use my eyes to draw you in\\nUntil i'm under your skin\\nI'll use my lips, i'll use my arms\\nCome on, come on, come on\\nGive in to me\\nGive in to me\\nGive in to me\\n\", 'Features': None}\n",
            "score: 6.2712636 source: {'Artists': 'Garrett Hedlund, Leighton Meester', 'Name': 'Give In To Me', 'Weekly.rank': 79, 'Peak.position': None, 'Weeks.on.chart': None, 'Week': '2011-01-27', 'Date': 'November 8, 2010', 'Genre': 'Pop', 'Writing.Credits': 'Rose falcon, Billy falcon, Elisha a hoffman', 'Lyrics': \"Give In To Me \\nI'm gonna wear you down\\nI'm gonna make you see\\nI'm gonna get to you\\nYou're gonna give in to me\\nI'm gonna start a fire\\nYou're gonna feel the heat\\nI'm gonna burn for you\\nYou're gonna melt for me\\nCome on, come on\\nInto my arms\\nCome on, come on\\nGive in to me\\nYou're gonna take my hand\\nWhisper the sweetest words\\nAnd if you're ever sad\\nI'll make you laugh\\nI'll chase the hurt\\nMy heart is set on you\\nI don't want no one else\\nAnd if you don't want me\\nI guess i'll be all by myself\\nCome on, come on\\nInto my arms\\nCome on, come on\\nGive in to me\\nI'll use my eyes to draw you in\\nUntil i'm under your skin\\nI'll use my lips, i'll use my arms\\nCome on, come on, come on\\nGive in to me\\nGive in to me\\nGive in to me\\n\", 'Features': None}\n",
            "score: 5.964209 source: {'Artists': 'Jerrod Niemann', 'Name': \"One More Drinkin' Song\", 'Weekly.rank': 80, 'Peak.position': 72.0, 'Weeks.on.chart': 18.0, 'Week': '2011-12-08', 'Date': 'June 1, 2011', 'Genre': 'Rock,Country', 'Writing.Credits': 'Richie brown, Jerrod niemann', 'Lyrics': \"One More Drinking Song \\nToday I wanted to write a tune\\nStarted strumming this little groove\\nI could've wrote about love, or money, something sad, or something funny\\nBut hey, hey, hey what's so wrong with one more drinking song?\\nHold up your cups and sing along to one more drinking song\\nAnd if by chance this brings you cheer maybe someday you'll bring me a beer\\nOr not to mention my favorite drink a marga-daiquiri-screw-aloda-on the beach\\nHey, hey, hey what's so wrong with one more drinking song?\\nHold up your cups and sing along to one more drinking song\\nSo here's to cheap whiskey and fine wine\\nBuying shots and pick up lines\\nAnd here's to bartenders trying to get paid\\nWhen all of us are trying to get ---\\nHey, hey, hey what's so wrong with one more drinking song?\\nHold up your cups and sing along to one more drinking song\\nOh now you wanna sing along\\nHey, hey, hey what's so wrong with one more drinking song?\\nHold up your cups and sing along to one more drinking song\\nHey, hey, hey what's so wrong with one more drinking song?\\nHold up your cups and sing along to one more drinking song\\n\", 'Features': None}\n"
          ],
          "name": "stdout"
        }
      ]
    }
  ]
}
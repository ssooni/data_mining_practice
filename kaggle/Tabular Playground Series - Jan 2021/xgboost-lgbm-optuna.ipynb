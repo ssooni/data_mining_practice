{
 "cells": [
  {
   "cell_type": "code",
   "execution_count": 1,
   "metadata": {
    "_cell_guid": "b1076dfc-b9ad-4769-8c92-a6c4dae69d19",
    "_uuid": "8f2839f25d086af736a60e9eeb907d3b93b6e0e5",
    "execution": {
     "iopub.execute_input": "2021-01-31T11:38:39.720911Z",
     "iopub.status.busy": "2021-01-31T11:38:39.717832Z",
     "iopub.status.idle": "2021-01-31T11:38:39.815654Z",
     "shell.execute_reply": "2021-01-31T11:38:39.815002Z"
    },
    "papermill": {
     "duration": 0.117137,
     "end_time": "2021-01-31T11:38:39.815770",
     "exception": false,
     "start_time": "2021-01-31T11:38:39.698633",
     "status": "completed"
    },
    "tags": []
   },
   "outputs": [
    {
     "name": "stdout",
     "output_type": "stream",
     "text": [
      "/kaggle/input/tabular-playground-series-jan-2021/sample_submission.csv\n",
      "/kaggle/input/tabular-playground-series-jan-2021/train.csv\n",
      "/kaggle/input/tabular-playground-series-jan-2021/test.csv\n"
     ]
    }
   ],
   "source": [
    "# This Python 3 environment comes with many helpful analytics libraries installed\n",
    "# It is defined by the kaggle/python Docker image: https://github.com/kaggle/docker-python\n",
    "# For example, here's several helpful packages to load\n",
    "\n",
    "import numpy as np # linear algebra\n",
    "import pandas as pd # data processing, CSV file I/O (e.g. pd.read_csv)\n",
    "import matplotlib.pyplot as plt \n",
    "import joblib\n",
    "\n",
    "%matplotlib inline\n",
    "# Input data files are available in the read-only \"../input/\" directory\n",
    "# For example, running this (by clicking run or pressing Shift+Enter) will list all files under the input directory\n",
    "\n",
    "import os\n",
    "for dirname, _, filenames in os.walk('/kaggle/input'):\n",
    "    for filename in filenames:\n",
    "        print(os.path.join(dirname, filename))\n",
    "\n",
    "# You can write up to 20GB to the current directory (/kaggle/working/) that gets preserved as output when you create a version using \"Save & Run All\" \n",
    "# You can also write temporary files to /kaggle/temp/, but they won't be saved outside of the current session"
   ]
  },
  {
   "cell_type": "code",
   "execution_count": 2,
   "metadata": {
    "_cell_guid": "79c7e3d0-c299-4dcb-8224-4455121ee9b0",
    "_uuid": "d629ff2d2480ee46fbb7e2d37f6b5fab8052498a",
    "execution": {
     "iopub.execute_input": "2021-01-31T11:38:39.845836Z",
     "iopub.status.busy": "2021-01-31T11:38:39.845182Z",
     "iopub.status.idle": "2021-01-31T11:38:43.226278Z",
     "shell.execute_reply": "2021-01-31T11:38:43.224950Z"
    },
    "papermill": {
     "duration": 3.399747,
     "end_time": "2021-01-31T11:38:43.226402",
     "exception": false,
     "start_time": "2021-01-31T11:38:39.826655",
     "status": "completed"
    },
    "tags": []
   },
   "outputs": [],
   "source": [
    "train_df = pd.read_csv(\"/kaggle/input/tabular-playground-series-jan-2021/train.csv\", index_col=[\"id\"])\n",
    "test_df = pd.read_csv(\"/kaggle/input/tabular-playground-series-jan-2021/test.csv\", index_col=[\"id\"])\n",
    "\n",
    "X = train_df.iloc[:, :-1].to_numpy()\n",
    "y = train_df.iloc[:, -1].to_numpy()\n",
    "X_test = test_df.to_numpy()"
   ]
  },
  {
   "cell_type": "code",
   "execution_count": 3,
   "metadata": {
    "execution": {
     "iopub.execute_input": "2021-01-31T11:38:43.253010Z",
     "iopub.status.busy": "2021-01-31T11:38:43.251767Z",
     "iopub.status.idle": "2021-01-31T11:38:43.409830Z",
     "shell.execute_reply": "2021-01-31T11:38:43.410306Z"
    },
    "papermill": {
     "duration": 0.173962,
     "end_time": "2021-01-31T11:38:43.410454",
     "exception": false,
     "start_time": "2021-01-31T11:38:43.236492",
     "status": "completed"
    },
    "tags": []
   },
   "outputs": [
    {
     "data": {
      "text/plain": [
       "cont1    -0.032994\n",
       "cont10   -0.021143\n",
       "cont9    -0.013029\n",
       "cont13   -0.006642\n",
       "cont14   -0.006609\n",
       "cont5    -0.005358\n",
       "cont4     0.005522\n",
       "cont8     0.014698\n",
       "cont6     0.027955\n",
       "cont12    0.047809\n",
       "cont11    0.050996\n",
       "cont3     0.058936\n",
       "cont2     0.067102\n",
       "cont7     0.067234\n",
       "Name: target, dtype: float64"
      ]
     },
     "execution_count": 3,
     "metadata": {},
     "output_type": "execute_result"
    }
   ],
   "source": [
    "corr=train_df.corr()[\"target\"]\n",
    "corr[np.argsort(corr, axis=0)[:-1]]"
   ]
  },
  {
   "cell_type": "code",
   "execution_count": 4,
   "metadata": {
    "execution": {
     "iopub.execute_input": "2021-01-31T11:38:43.442840Z",
     "iopub.status.busy": "2021-01-31T11:38:43.442099Z",
     "iopub.status.idle": "2021-01-31T11:38:49.555086Z",
     "shell.execute_reply": "2021-01-31T11:38:49.554439Z"
    },
    "papermill": {
     "duration": 6.13411,
     "end_time": "2021-01-31T11:38:49.555198",
     "exception": false,
     "start_time": "2021-01-31T11:38:43.421088",
     "status": "completed"
    },
    "tags": []
   },
   "outputs": [
    {
     "data": {
      "text/html": [
       "<style type='text/css'>\n",
       ".datatable table.frame { margin-bottom: 0; }\n",
       ".datatable table.frame thead { border-bottom: none; }\n",
       ".datatable table.frame tr.coltypes td {  color: #FFFFFF;  line-height: 6px;  padding: 0 0.5em;}\n",
       ".datatable .bool    { background: #DDDD99; }\n",
       ".datatable .object  { background: #565656; }\n",
       ".datatable .int     { background: #5D9E5D; }\n",
       ".datatable .float   { background: #4040CC; }\n",
       ".datatable .str     { background: #CC4040; }\n",
       ".datatable .row_index {  background: var(--jp-border-color3);  border-right: 1px solid var(--jp-border-color0);  color: var(--jp-ui-font-color3);  font-size: 9px;}\n",
       ".datatable .frame tr.coltypes .row_index {  background: var(--jp-border-color0);}\n",
       ".datatable th:nth-child(2) { padding-left: 12px; }\n",
       ".datatable .hellipsis {  color: var(--jp-cell-editor-border-color);}\n",
       ".datatable .vellipsis {  background: var(--jp-layout-color0);  color: var(--jp-cell-editor-border-color);}\n",
       ".datatable .na {  color: var(--jp-cell-editor-border-color);  font-size: 80%;}\n",
       ".datatable .footer { font-size: 9px; }\n",
       ".datatable .frame_dimensions {  background: var(--jp-border-color3);  border-top: 1px solid var(--jp-border-color0);  color: var(--jp-ui-font-color3);  display: inline-block;  opacity: 0.6;  padding: 1px 10px 1px 5px;}\n",
       "</style>\n"
      ],
      "text/plain": [
       "<IPython.core.display.HTML object>"
      ]
     },
     "metadata": {},
     "output_type": "display_data"
    }
   ],
   "source": [
    "from sklearn.model_selection import train_test_split\n",
    "from sklearn.experimental import enable_hist_gradient_boosting\n",
    "from sklearn.ensemble import AdaBoostRegressor,  HistGradientBoostingRegressor, StackingRegressor, RandomForestRegressor\n",
    "from sklearn.metrics import mean_squared_error\n",
    "from sklearn.model_selection import KFold\n",
    "from sklearn.neural_network import MLPRegressor\n",
    "from sklearn.linear_model import SGDRegressor\n",
    "\n",
    "import xgboost as xgb\n",
    "\n",
    "from lightgbm import LGBMRegressor\n",
    "from xgboost import XGBRegressor\n",
    "from catboost import CatBoostRegressor\n",
    "\n",
    "import optuna \n",
    "from optuna import Trial, visualization\n",
    "from optuna.samplers import TPESampler\n",
    "\n",
    "# optuna.logging.set_verbosity(optuna.logging.WARNING)\n",
    "\n",
    "def train(model):\n",
    "    X_train, X_test, y_train, y_test = train_test_split(X, y.flatten(), test_size=0.1, random_state=156)\n",
    "    y_train = y_train.reshape(-1, 1)\n",
    "    y_test  = y_test.reshape(-1, 1)\n",
    "        \n",
    "    model = model.fit(X_train, y_train, early_stopping_rounds=100, verbose=False, eval_set=[(X_test, y_test)])\n",
    "    score = mean_squared_error(model.predict(X_train), y_train, squared=False)\n",
    "    print(score)\n",
    "    return model"
   ]
  },
  {
   "cell_type": "markdown",
   "metadata": {
    "papermill": {
     "duration": 0.010938,
     "end_time": "2021-01-31T11:38:49.577831",
     "exception": false,
     "start_time": "2021-01-31T11:38:49.566893",
     "status": "completed"
    },
    "tags": []
   },
   "source": [
    "Integer parameter : A uniform distribution on integers.  \n",
    "```n_estimators = trial.suggest_int('n_estimators',100,500)```\n",
    "\n",
    "Categorical parameter : A categorical distribution.  \n",
    "```criterion = trial.suggest_categorical('criterion' ,['gini', 'entropy'])```\n",
    "\n",
    "Uniform parameter : A uniform distribution in linear domain.  \n",
    "```subsample = trial.suggest_uniform('subsample' ,0.2,0.8)```\n",
    "\n",
    "Discrete-uniform parameter : A discretized uniform distribution in linear domain.  \n",
    "```max_features = trial.suggest_discrete_uniform('max_features', 0.05,1,0.05)```\n",
    "\n",
    "Loguniform parameter : A uniform distribution in log domain.  **\n",
    "```learning_rate = trial.sugget_loguniform('learning_rate' : 1e-6, 1e-3)```"
   ]
  },
  {
   "cell_type": "code",
   "execution_count": 5,
   "metadata": {
    "execution": {
     "iopub.execute_input": "2021-01-31T11:38:49.618630Z",
     "iopub.status.busy": "2021-01-31T11:38:49.617775Z",
     "iopub.status.idle": "2021-01-31T11:38:49.621042Z",
     "shell.execute_reply": "2021-01-31T11:38:49.620511Z"
    },
    "papermill": {
     "duration": 0.032071,
     "end_time": "2021-01-31T11:38:49.621149",
     "exception": false,
     "start_time": "2021-01-31T11:38:49.589078",
     "status": "completed"
    },
    "tags": []
   },
   "outputs": [],
   "source": [
    "def objectiveXGB(trial: Trial, X, y, test):\n",
    "    param = {\n",
    "        \"n_estimators\" : trial.suggest_int('n_estimators', 500, 4000),\n",
    "        'max_depth':trial.suggest_int('max_depth', 8, 16),\n",
    "        'min_child_weight':trial.suggest_int('min_child_weight', 1, 300),\n",
    "        'gamma':trial.suggest_int('gamma', 1, 3),\n",
    "        'learning_rate': 0.01,\n",
    "        'colsample_bytree':trial.suggest_discrete_uniform('colsample_bytree',0.5, 1, 0.1),\n",
    "        'nthread' : -1,\n",
    "        'tree_method': 'gpu_hist',\n",
    "        'predictor': 'gpu_predictor',\n",
    "        'lambda': trial.suggest_loguniform('lambda', 1e-3, 10.0),\n",
    "        'alpha': trial.suggest_loguniform('alpha', 1e-3, 10.0),\n",
    "        'subsample': trial.suggest_categorical('subsample', [0.6,0.7,0.8,1.0] ),\n",
    "        'random_state': 42\n",
    "    }\n",
    "    X_train, X_test, y_train, y_test = train_test_split(X, y.flatten(), test_size=0.1)\n",
    "    \n",
    "    y_train = y_train.reshape(-1, 1)\n",
    "    y_test  = y_test.reshape(-1, 1)\n",
    "\n",
    "    model = xgb.XGBRegressor(**param)\n",
    "    xgb_model = model.fit(X_train, y_train, verbose=False, eval_set=[(X_test, y_test)])\n",
    "    score = mean_squared_error(xgb_model.predict(X_test), y_test, squared=False)\n",
    "\n",
    "    return score"
   ]
  },
  {
   "cell_type": "code",
   "execution_count": 6,
   "metadata": {
    "execution": {
     "iopub.execute_input": "2021-01-31T11:38:49.655352Z",
     "iopub.status.busy": "2021-01-31T11:38:49.654468Z",
     "iopub.status.idle": "2021-01-31T12:00:55.536650Z",
     "shell.execute_reply": "2021-01-31T12:00:55.535642Z"
    },
    "papermill": {
     "duration": 1325.903429,
     "end_time": "2021-01-31T12:00:55.536815",
     "exception": false,
     "start_time": "2021-01-31T11:38:49.633386",
     "status": "completed"
    },
    "tags": []
   },
   "outputs": [
    {
     "name": "stderr",
     "output_type": "stream",
     "text": [
      "\u001b[32m[I 2021-01-31 11:38:49,652]\u001b[0m A new study created in memory with name: no-name-be7f46a1-b6aa-4024-8669-e3fdccbcfcf6\u001b[0m\n",
      "\u001b[32m[I 2021-01-31 11:39:14,633]\u001b[0m Trial 0 finished with value: 0.6989588738361633 and parameters: {'n_estimators': 1838, 'max_depth': 14, 'min_child_weight': 215, 'gamma': 2, 'colsample_bytree': 0.9, 'lambda': 4.961641935114362, 'alpha': 6.979446411760841, 'subsample': 0.7}. Best is trial 0 with value: 0.6989588738361633.\u001b[0m\n",
      "\u001b[32m[I 2021-01-31 11:39:34,924]\u001b[0m Trial 1 finished with value: 0.6984395858421006 and parameters: {'n_estimators': 2054, 'max_depth': 16, 'min_child_weight': 11, 'gamma': 3, 'colsample_bytree': 0.6, 'lambda': 0.533191120541982, 'alpha': 0.03322032484290466, 'subsample': 0.7}. Best is trial 1 with value: 0.6984395858421006.\u001b[0m\n",
      "\u001b[32m[I 2021-01-31 11:39:40,401]\u001b[0m Trial 2 finished with value: 0.698131899643169 and parameters: {'n_estimators': 770, 'max_depth': 8, 'min_child_weight': 189, 'gamma': 3, 'colsample_bytree': 0.5, 'lambda': 0.11775793473741883, 'alpha': 0.0014192139140771667, 'subsample': 0.8}. Best is trial 2 with value: 0.698131899643169.\u001b[0m\n",
      "\u001b[32m[I 2021-01-31 11:40:02,525]\u001b[0m Trial 3 finished with value: 0.6976421069550431 and parameters: {'n_estimators': 1517, 'max_depth': 10, 'min_child_weight': 25, 'gamma': 1, 'colsample_bytree': 0.5, 'lambda': 0.0179140957072102, 'alpha': 0.10088209496147234, 'subsample': 1.0}. Best is trial 3 with value: 0.6976421069550431.\u001b[0m\n",
      "\u001b[32m[I 2021-01-31 11:40:32,692]\u001b[0m Trial 4 finished with value: 0.6970622324852312 and parameters: {'n_estimators': 1186, 'max_depth': 13, 'min_child_weight': 37, 'gamma': 2, 'colsample_bytree': 1.0, 'lambda': 0.16439255591530072, 'alpha': 0.002676775566056092, 'subsample': 0.8}. Best is trial 4 with value: 0.6970622324852312.\u001b[0m\n",
      "\u001b[32m[I 2021-01-31 11:40:50,809]\u001b[0m Trial 5 finished with value: 0.6959992404366083 and parameters: {'n_estimators': 1173, 'max_depth': 12, 'min_child_weight': 125, 'gamma': 2, 'colsample_bytree': 0.7, 'lambda': 0.0056280113754363075, 'alpha': 0.004261306343552877, 'subsample': 1.0}. Best is trial 5 with value: 0.6959992404366083.\u001b[0m\n",
      "\u001b[32m[I 2021-01-31 11:41:08,943]\u001b[0m Trial 6 finished with value: 0.7012721367069924 and parameters: {'n_estimators': 844, 'max_depth': 11, 'min_child_weight': 180, 'gamma': 1, 'colsample_bytree': 0.6, 'lambda': 0.01469958925815164, 'alpha': 0.16666820802055135, 'subsample': 1.0}. Best is trial 5 with value: 0.6959992404366083.\u001b[0m\n",
      "\u001b[32m[I 2021-01-31 11:41:27,106]\u001b[0m Trial 7 finished with value: 0.7000299232783013 and parameters: {'n_estimators': 2865, 'max_depth': 14, 'min_child_weight': 184, 'gamma': 3, 'colsample_bytree': 0.7, 'lambda': 0.0012689902981628213, 'alpha': 0.33020982219946193, 'subsample': 0.6}. Best is trial 5 with value: 0.6959992404366083.\u001b[0m\n",
      "\u001b[32m[I 2021-01-31 11:41:40,826]\u001b[0m Trial 8 finished with value: 0.6963422853114274 and parameters: {'n_estimators': 869, 'max_depth': 12, 'min_child_weight': 279, 'gamma': 2, 'colsample_bytree': 0.7, 'lambda': 0.0018300357587094495, 'alpha': 0.003920930532885174, 'subsample': 1.0}. Best is trial 5 with value: 0.6959992404366083.\u001b[0m\n",
      "\u001b[32m[I 2021-01-31 11:41:51,189]\u001b[0m Trial 9 finished with value: 0.7043952543184514 and parameters: {'n_estimators': 1904, 'max_depth': 9, 'min_child_weight': 10, 'gamma': 3, 'colsample_bytree': 0.9, 'lambda': 0.7606818379656084, 'alpha': 3.2064855207156686, 'subsample': 1.0}. Best is trial 5 with value: 0.6959992404366083.\u001b[0m\n",
      "\u001b[32m[I 2021-01-31 11:43:25,577]\u001b[0m Trial 10 finished with value: 0.6994857199111865 and parameters: {'n_estimators': 3345, 'max_depth': 16, 'min_child_weight': 94, 'gamma': 1, 'colsample_bytree': 0.8, 'lambda': 0.007949518781138589, 'alpha': 0.01942796410046955, 'subsample': 0.6}. Best is trial 5 with value: 0.6959992404366083.\u001b[0m\n",
      "\u001b[32m[I 2021-01-31 11:43:38,832]\u001b[0m Trial 11 finished with value: 0.6996774362642536 and parameters: {'n_estimators': 629, 'max_depth': 12, 'min_child_weight': 296, 'gamma': 2, 'colsample_bytree': 0.7, 'lambda': 0.0012065750853555825, 'alpha': 0.006010770112203588, 'subsample': 1.0}. Best is trial 5 with value: 0.6959992404366083.\u001b[0m\n",
      "\u001b[32m[I 2021-01-31 11:43:57,211]\u001b[0m Trial 12 finished with value: 0.6998228378192336 and parameters: {'n_estimators': 1253, 'max_depth': 12, 'min_child_weight': 112, 'gamma': 2, 'colsample_bytree': 0.8, 'lambda': 0.003856062285053633, 'alpha': 0.009835430523117073, 'subsample': 1.0}. Best is trial 5 with value: 0.6959992404366083.\u001b[0m\n",
      "\u001b[32m[I 2021-01-31 11:44:10,629]\u001b[0m Trial 13 finished with value: 0.6991680666391518 and parameters: {'n_estimators': 2734, 'max_depth': 11, 'min_child_weight': 284, 'gamma': 2, 'colsample_bytree': 0.6, 'lambda': 0.0011011796506697198, 'alpha': 0.0012053059451050568, 'subsample': 1.0}. Best is trial 5 with value: 0.6959992404366083.\u001b[0m\n",
      "\u001b[32m[I 2021-01-31 11:44:28,119]\u001b[0m Trial 14 finished with value: 0.6944786821568005 and parameters: {'n_estimators': 549, 'max_depth': 14, 'min_child_weight': 248, 'gamma': 2, 'colsample_bytree': 0.7, 'lambda': 0.0038593653692490706, 'alpha': 0.004072296246572295, 'subsample': 1.0}. Best is trial 14 with value: 0.6944786821568005.\u001b[0m\n",
      "\u001b[32m[I 2021-01-31 11:44:47,746]\u001b[0m Trial 15 finished with value: 0.7011655402642222 and parameters: {'n_estimators': 513, 'max_depth': 14, 'min_child_weight': 248, 'gamma': 1, 'colsample_bytree': 0.8, 'lambda': 0.02967701138824667, 'alpha': 0.034210823090693315, 'subsample': 1.0}. Best is trial 14 with value: 0.6944786821568005.\u001b[0m\n",
      "\u001b[32m[I 2021-01-31 11:45:20,751]\u001b[0m Trial 16 finished with value: 0.6926691405717094 and parameters: {'n_estimators': 1415, 'max_depth': 15, 'min_child_weight': 124, 'gamma': 2, 'colsample_bytree': 0.6, 'lambda': 0.039217785684337855, 'alpha': 0.7187906148566993, 'subsample': 0.8}. Best is trial 16 with value: 0.6926691405717094.\u001b[0m\n",
      "\u001b[32m[I 2021-01-31 11:46:05,917]\u001b[0m Trial 17 finished with value: 0.6987081675834381 and parameters: {'n_estimators': 2456, 'max_depth': 15, 'min_child_weight': 64, 'gamma': 2, 'colsample_bytree': 0.6, 'lambda': 0.07679362218099238, 'alpha': 0.9838407835917466, 'subsample': 0.8}. Best is trial 16 with value: 0.6926691405717094.\u001b[0m\n",
      "\u001b[32m[I 2021-01-31 11:46:52,913]\u001b[0m Trial 18 finished with value: 0.695832748072481 and parameters: {'n_estimators': 1566, 'max_depth': 15, 'min_child_weight': 152, 'gamma': 1, 'colsample_bytree': 0.5, 'lambda': 0.04785966526907583, 'alpha': 0.6144863474731813, 'subsample': 0.8}. Best is trial 16 with value: 0.6926691405717094.\u001b[0m\n",
      "\u001b[32m[I 2021-01-31 11:47:09,267]\u001b[0m Trial 19 finished with value: 0.6954112418276062 and parameters: {'n_estimators': 1570, 'max_depth': 15, 'min_child_weight': 245, 'gamma': 3, 'colsample_bytree': 0.6, 'lambda': 0.616174248626708, 'alpha': 2.419761514693048, 'subsample': 0.8}. Best is trial 16 with value: 0.6926691405717094.\u001b[0m\n",
      "\u001b[32m[I 2021-01-31 11:47:50,399]\u001b[0m Trial 20 finished with value: 0.6967594009165083 and parameters: {'n_estimators': 3768, 'max_depth': 16, 'min_child_weight': 143, 'gamma': 2, 'colsample_bytree': 0.9, 'lambda': 0.003320167603978342, 'alpha': 1.3856466626651178, 'subsample': 0.6}. Best is trial 16 with value: 0.6926691405717094.\u001b[0m\n",
      "\u001b[32m[I 2021-01-31 11:48:06,643]\u001b[0m Trial 21 finished with value: 0.6967656770849345 and parameters: {'n_estimators': 1582, 'max_depth': 15, 'min_child_weight': 239, 'gamma': 3, 'colsample_bytree': 0.6, 'lambda': 1.326660816861036, 'alpha': 3.5801936078505197, 'subsample': 0.8}. Best is trial 16 with value: 0.6926691405717094.\u001b[0m\n",
      "\u001b[32m[I 2021-01-31 11:48:20,041]\u001b[0m Trial 22 finished with value: 0.6959556160712814 and parameters: {'n_estimators': 2183, 'max_depth': 14, 'min_child_weight': 255, 'gamma': 3, 'colsample_bytree': 0.6, 'lambda': 5.614984672574503, 'alpha': 2.455311348095379, 'subsample': 0.8}. Best is trial 16 with value: 0.6926691405717094.\u001b[0m\n",
      "\u001b[32m[I 2021-01-31 11:48:36,784]\u001b[0m Trial 23 finished with value: 0.6991658072707637 and parameters: {'n_estimators': 1122, 'max_depth': 13, 'min_child_weight': 232, 'gamma': 3, 'colsample_bytree': 0.5, 'lambda': 0.2866170323195122, 'alpha': 9.500883488978364, 'subsample': 0.8}. Best is trial 16 with value: 0.6926691405717094.\u001b[0m\n",
      "\u001b[32m[I 2021-01-31 11:49:10,368]\u001b[0m Trial 24 finished with value: 0.6929209881851918 and parameters: {'n_estimators': 1660, 'max_depth': 15, 'min_child_weight': 84, 'gamma': 2, 'colsample_bytree': 0.7, 'lambda': 0.23380403303040995, 'alpha': 0.3917914748442161, 'subsample': 0.8}. Best is trial 16 with value: 0.6926691405717094.\u001b[0m\n",
      "\u001b[32m[I 2021-01-31 11:49:34,616]\u001b[0m Trial 25 finished with value: 0.6999434622933833 and parameters: {'n_estimators': 1781, 'max_depth': 13, 'min_child_weight': 69, 'gamma': 2, 'colsample_bytree': 0.7, 'lambda': 2.0437074746652075, 'alpha': 0.3107461036389493, 'subsample': 0.8}. Best is trial 16 with value: 0.6926691405717094.\u001b[0m\n",
      "\u001b[32m[I 2021-01-31 11:50:11,994]\u001b[0m Trial 26 finished with value: 0.6961935137887199 and parameters: {'n_estimators': 2390, 'max_depth': 16, 'min_child_weight': 88, 'gamma': 2, 'colsample_bytree': 0.8, 'lambda': 0.214027628463951, 'alpha': 0.2933530584276648, 'subsample': 0.7}. Best is trial 16 with value: 0.6926691405717094.\u001b[0m\n",
      "\u001b[32m[I 2021-01-31 11:50:37,034]\u001b[0m Trial 27 finished with value: 0.6960195430644573 and parameters: {'n_estimators': 978, 'max_depth': 15, 'min_child_weight': 154, 'gamma': 2, 'colsample_bytree': 0.7, 'lambda': 0.038784512855256914, 'alpha': 0.0743132346670548, 'subsample': 0.8}. Best is trial 16 with value: 0.6926691405717094.\u001b[0m\n",
      "\u001b[32m[I 2021-01-31 11:51:18,692]\u001b[0m Trial 28 finished with value: 0.6982975048453451 and parameters: {'n_estimators': 1408, 'max_depth': 14, 'min_child_weight': 53, 'gamma': 2, 'colsample_bytree': 0.7, 'lambda': 0.011488898042448679, 'alpha': 0.823661735652166, 'subsample': 0.8}. Best is trial 16 with value: 0.6926691405717094.\u001b[0m\n",
      "\u001b[32m[I 2021-01-31 11:51:38,621]\u001b[0m Trial 29 finished with value: 0.6984882426735585 and parameters: {'n_estimators': 1845, 'max_depth': 14, 'min_child_weight': 208, 'gamma': 2, 'colsample_bytree': 0.8, 'lambda': 2.6072511839761576, 'alpha': 0.12746489939239564, 'subsample': 0.7}. Best is trial 16 with value: 0.6926691405717094.\u001b[0m\n",
      "\u001b[32m[I 2021-01-31 11:52:26,905]\u001b[0m Trial 30 finished with value: 0.6958668383219296 and parameters: {'n_estimators': 2655, 'max_depth': 13, 'min_child_weight': 113, 'gamma': 1, 'colsample_bytree': 0.7, 'lambda': 0.06352391330215072, 'alpha': 0.47367628390755273, 'subsample': 0.8}. Best is trial 16 with value: 0.6926691405717094.\u001b[0m\n",
      "\u001b[32m[I 2021-01-31 11:52:53,240]\u001b[0m Trial 31 finished with value: 0.6997493719550192 and parameters: {'n_estimators': 1727, 'max_depth': 15, 'min_child_weight': 210, 'gamma': 2, 'colsample_bytree': 0.6, 'lambda': 0.5285503275209107, 'alpha': 6.143835933994607, 'subsample': 0.8}. Best is trial 16 with value: 0.6926691405717094.\u001b[0m\n",
      "\u001b[32m[I 2021-01-31 11:53:17,661]\u001b[0m Trial 32 finished with value: 0.697336754960971 and parameters: {'n_estimators': 2058, 'max_depth': 16, 'min_child_weight': 127, 'gamma': 3, 'colsample_bytree': 0.6, 'lambda': 0.3679817474859144, 'alpha': 1.5394156182344625, 'subsample': 0.8}. Best is trial 16 with value: 0.6926691405717094.\u001b[0m\n",
      "\u001b[32m[I 2021-01-31 11:53:31,512]\u001b[0m Trial 33 finished with value: 0.69469161655782 and parameters: {'n_estimators': 521, 'max_depth': 15, 'min_child_weight': 268, 'gamma': 3, 'colsample_bytree': 0.6, 'lambda': 0.1346329951918241, 'alpha': 1.665781838012356, 'subsample': 0.7}. Best is trial 16 with value: 0.6926691405717094.\u001b[0m\n",
      "\u001b[32m[I 2021-01-31 11:53:48,783]\u001b[0m Trial 34 finished with value: 0.6972009557953684 and parameters: {'n_estimators': 528, 'max_depth': 16, 'min_child_weight': 268, 'gamma': 2, 'colsample_bytree': 0.5, 'lambda': 0.12608097821961942, 'alpha': 1.4774868791635178, 'subsample': 0.7}. Best is trial 16 with value: 0.6926691405717094.\u001b[0m\n",
      "\u001b[32m[I 2021-01-31 11:54:12,627]\u001b[0m Trial 35 finished with value: 0.6954789875504872 and parameters: {'n_estimators': 737, 'max_depth': 15, 'min_child_weight': 96, 'gamma': 2, 'colsample_bytree': 0.6, 'lambda': 0.10381263531265492, 'alpha': 0.05789210910050885, 'subsample': 0.7}. Best is trial 16 with value: 0.6926691405717094.\u001b[0m\n",
      "\u001b[32m[I 2021-01-31 11:54:24,647]\u001b[0m Trial 36 finished with value: 0.6995115871891587 and parameters: {'n_estimators': 1313, 'max_depth': 14, 'min_child_weight': 299, 'gamma': 3, 'colsample_bytree': 0.5, 'lambda': 0.023770334408292255, 'alpha': 0.15156263305627066, 'subsample': 0.7}. Best is trial 16 with value: 0.6926691405717094.\u001b[0m\n",
      "\u001b[32m[I 2021-01-31 11:55:00,130]\u001b[0m Trial 37 finished with value: 0.6988825306851013 and parameters: {'n_estimators': 1007, 'max_depth': 13, 'min_child_weight': 36, 'gamma': 1, 'colsample_bytree': 0.7, 'lambda': 9.913090057708677, 'alpha': 5.88567511773672, 'subsample': 0.7}. Best is trial 16 with value: 0.6926691405717094.\u001b[0m\n",
      "\u001b[32m[I 2021-01-31 11:55:20,568]\u001b[0m Trial 38 finished with value: 0.6974217099483263 and parameters: {'n_estimators': 507, 'max_depth': 16, 'min_child_weight': 162, 'gamma': 2, 'colsample_bytree': 0.6, 'lambda': 0.18460237451595957, 'alpha': 0.548091059692696, 'subsample': 0.7}. Best is trial 16 with value: 0.6926691405717094.\u001b[0m\n",
      "\u001b[32m[I 2021-01-31 11:55:36,074]\u001b[0m Trial 39 finished with value: 0.7016544157718939 and parameters: {'n_estimators': 1025, 'max_depth': 14, 'min_child_weight': 76, 'gamma': 3, 'colsample_bytree': 0.7, 'lambda': 1.0605389613945055, 'alpha': 0.9444484996983884, 'subsample': 0.6}. Best is trial 16 with value: 0.6926691405717094.\u001b[0m\n",
      "\u001b[32m[I 2021-01-31 11:55:57,944]\u001b[0m Trial 40 finished with value: 0.6948280596792296 and parameters: {'n_estimators': 708, 'max_depth': 15, 'min_child_weight': 170, 'gamma': 2, 'colsample_bytree': 0.5, 'lambda': 0.3685535386246737, 'alpha': 0.49341874254207085, 'subsample': 1.0}. Best is trial 16 with value: 0.6926691405717094.\u001b[0m\n",
      "\u001b[32m[I 2021-01-31 11:56:16,570]\u001b[0m Trial 41 finished with value: 0.6978372575268349 and parameters: {'n_estimators': 762, 'max_depth': 15, 'min_child_weight': 225, 'gamma': 2, 'colsample_bytree': 0.5, 'lambda': 0.3233169600125592, 'alpha': 0.24830272906741135, 'subsample': 1.0}. Best is trial 16 with value: 0.6926691405717094.\u001b[0m\n",
      "\u001b[32m[I 2021-01-31 11:56:40,340]\u001b[0m Trial 42 finished with value: 0.6987604133851342 and parameters: {'n_estimators': 678, 'max_depth': 15, 'min_child_weight': 181, 'gamma': 2, 'colsample_bytree': 0.5, 'lambda': 0.1451683783710794, 'alpha': 0.450406993935908, 'subsample': 1.0}. Best is trial 16 with value: 0.6926691405717094.\u001b[0m\n",
      "\u001b[32m[I 2021-01-31 11:57:09,058]\u001b[0m Trial 43 finished with value: 0.6991807486552817 and parameters: {'n_estimators': 882, 'max_depth': 16, 'min_child_weight': 133, 'gamma': 2, 'colsample_bytree': 0.6, 'lambda': 0.08180373929345874, 'alpha': 0.18165603394017166, 'subsample': 1.0}. Best is trial 16 with value: 0.6926691405717094.\u001b[0m\n",
      "\u001b[32m[I 2021-01-31 11:57:27,379]\u001b[0m Trial 44 finished with value: 0.6995858107340279 and parameters: {'n_estimators': 1381, 'max_depth': 14, 'min_child_weight': 263, 'gamma': 2, 'colsample_bytree': 0.7, 'lambda': 0.403657118742876, 'alpha': 1.935992161460453, 'subsample': 1.0}. Best is trial 16 with value: 0.6926691405717094.\u001b[0m\n",
      "\u001b[32m[I 2021-01-31 11:58:04,615]\u001b[0m Trial 45 finished with value: 0.6972660189085221 and parameters: {'n_estimators': 1193, 'max_depth': 15, 'min_child_weight': 108, 'gamma': 2, 'colsample_bytree': 0.5, 'lambda': 0.22843599832641476, 'alpha': 4.056377062345579, 'subsample': 1.0}. Best is trial 16 with value: 0.6926691405717094.\u001b[0m\n",
      "\u001b[32m[I 2021-01-31 11:58:37,146]\u001b[0m Trial 46 finished with value: 0.6979395982702321 and parameters: {'n_estimators': 610, 'max_depth': 16, 'min_child_weight': 195, 'gamma': 1, 'colsample_bytree': 0.6, 'lambda': 0.0022876987494719, 'alpha': 0.0019647973585286975, 'subsample': 1.0}. Best is trial 16 with value: 0.6926691405717094.\u001b[0m\n",
      "\u001b[32m[I 2021-01-31 11:58:56,035]\u001b[0m Trial 47 finished with value: 0.700737607090333 and parameters: {'n_estimators': 853, 'max_depth': 14, 'min_child_weight': 277, 'gamma': 2, 'colsample_bytree': 0.8, 'lambda': 0.016129260522084573, 'alpha': 0.7114338705788977, 'subsample': 1.0}. Best is trial 16 with value: 0.6926691405717094.\u001b[0m\n",
      "\u001b[32m[I 2021-01-31 11:59:24,697]\u001b[0m Trial 48 finished with value: 0.6918131483269861 and parameters: {'n_estimators': 1988, 'max_depth': 15, 'min_child_weight': 171, 'gamma': 2, 'colsample_bytree': 0.7, 'lambda': 0.009025835256777458, 'alpha': 1.0684343216052703, 'subsample': 0.6}. Best is trial 48 with value: 0.6918131483269861.\u001b[0m\n",
      "\u001b[32m[I 2021-01-31 12:00:34,445]\u001b[0m Trial 49 finished with value: 0.6973523901244232 and parameters: {'n_estimators': 2138, 'max_depth': 13, 'min_child_weight': 54, 'gamma': 1, 'colsample_bytree': 0.7, 'lambda': 0.0041450614876976455, 'alpha': 1.2584887220213783, 'subsample': 0.6}. Best is trial 48 with value: 0.6918131483269861.\u001b[0m\n"
     ]
    },
    {
     "name": "stdout",
     "output_type": "stream",
     "text": [
      "Best trial: score 0.6918131483269861,\n",
      "params {'n_estimators': 1988, 'max_depth': 15, 'min_child_weight': 171, 'gamma': 2, 'colsample_bytree': 0.7, 'lambda': 0.009025835256777458, 'alpha': 1.0684343216052703, 'subsample': 0.6}\n",
      "0.6635022057160923\n"
     ]
    }
   ],
   "source": [
    "study = optuna.create_study(direction='minimize',sampler=TPESampler())\n",
    "study.optimize(lambda trial : objectiveXGB(trial, X,  y, X_test), n_trials=50)\n",
    "print('Best trial: score {},\\nparams {}'.format(study.best_trial.value,study.best_trial.params))\n",
    "\n",
    "#best_param = study.best_trial.params\n",
    "#xgbReg = train(xgb.XGBRegressor(**best_param, tree_method='gpu_hist', random_state=42, predictor='gpu_predictor', learning_rate=0.01, nthread=-1))\n",
    "\n",
    "params =  {'n_estimators': 3520, 'max_depth': 11, 'min_child_weight': 231, 'gamma': 2, 'colsample_bytree': 0.7, 'lambda': 0.014950936465569798, 'alpha': 0.28520156840812494, 'subsample': 0.6}\n",
    "xgbReg = train(xgb.XGBRegressor(**params, tree_method='gpu_hist', random_state=42, predictor='gpu_predictor', learning_rate=0.01, nthread=-1))\n",
    "\n",
    "# 0.6744648190960726"
   ]
  },
  {
   "cell_type": "code",
   "execution_count": 7,
   "metadata": {
    "execution": {
     "iopub.execute_input": "2021-01-31T12:00:55.643600Z",
     "iopub.status.busy": "2021-01-31T12:00:55.642518Z",
     "iopub.status.idle": "2021-01-31T12:00:55.652566Z",
     "shell.execute_reply": "2021-01-31T12:00:55.650357Z"
    },
    "papermill": {
     "duration": 0.070897,
     "end_time": "2021-01-31T12:00:55.652729",
     "exception": false,
     "start_time": "2021-01-31T12:00:55.581832",
     "status": "completed"
    },
    "tags": []
   },
   "outputs": [],
   "source": [
    "def objectiveLGBM(trial: Trial, X, y, test):\n",
    "    param = {\n",
    "        'objective': 'regression',\n",
    "        'metric': 'root_mean_squared_error',\n",
    "        'verbosity': -1,\n",
    "        'boosting_type': 'gbdt',\n",
    "        'lambda_l1': trial.suggest_loguniform('lambda_l1', 1e-8, 10.0),\n",
    "        'lambda_l2': trial.suggest_loguniform('lambda_l2', 1e-8, 10.0),\n",
    "        'num_leaves': trial.suggest_int('num_leaves', 2, 512),\n",
    "        'learning_rate': 0.01,\n",
    "        'n_estimators': trial.suggest_int('n_estimators', 700, 3000),\n",
    "        'feature_fraction': trial.suggest_uniform('feature_fraction', 0.4, 1.0),\n",
    "        'bagging_fraction': trial.suggest_uniform('bagging_fraction', 0.4, 1.0),\n",
    "        'bagging_freq': trial.suggest_int('bagging_freq', 1, 7),\n",
    "        'min_child_samples': trial.suggest_int('min_child_samples', 5, 100),\n",
    "        'device':\"gpu\",\n",
    "        'gpu_use_dp':True\n",
    "    }\n",
    "    X_train, X_test, y_train, y_test = train_test_split(X, y.flatten(), test_size=0.1)\n",
    "        \n",
    "    lgbm_regr = LGBMRegressor(**param)\n",
    "    lgbm_regr = lgbm_regr.fit(X_train, y_train, verbose=False)\n",
    "    \n",
    "    score = mean_squared_error(lgbm_regr.predict(X_test), y_test, squared=False)\n",
    "    return score"
   ]
  },
  {
   "cell_type": "code",
   "execution_count": 8,
   "metadata": {
    "execution": {
     "iopub.execute_input": "2021-01-31T12:00:55.729840Z",
     "iopub.status.busy": "2021-01-31T12:00:55.729008Z",
     "iopub.status.idle": "2021-01-31T12:50:00.611181Z",
     "shell.execute_reply": "2021-01-31T12:50:00.610578Z"
    },
    "papermill": {
     "duration": 2944.920069,
     "end_time": "2021-01-31T12:50:00.611306",
     "exception": false,
     "start_time": "2021-01-31T12:00:55.691237",
     "status": "completed"
    },
    "tags": []
   },
   "outputs": [
    {
     "name": "stderr",
     "output_type": "stream",
     "text": [
      "\u001b[32m[I 2021-01-31 12:00:55,727]\u001b[0m A new study created in memory with name: no-name-905cd327-cea7-4cb3-8357-197a3832860b\u001b[0m\n",
      "\u001b[32m[I 2021-01-31 12:03:06,069]\u001b[0m Trial 0 finished with value: 0.6966205326623366 and parameters: {'lambda_l1': 5.849892300490624e-06, 'lambda_l2': 1.0985904987808198e-08, 'num_leaves': 146, 'n_estimators': 1673, 'feature_fraction': 0.8305103691181817, 'bagging_fraction': 0.6317746830544261, 'bagging_freq': 2, 'min_child_samples': 84}. Best is trial 0 with value: 0.6966205326623366.\u001b[0m\n",
      "\u001b[32m[I 2021-01-31 12:04:01,637]\u001b[0m Trial 1 finished with value: 0.7001111417396245 and parameters: {'lambda_l1': 4.533754839995915e-08, 'lambda_l2': 7.069857056821609e-07, 'num_leaves': 35, 'n_estimators': 1488, 'feature_fraction': 0.5020424533902141, 'bagging_fraction': 0.6726453486940405, 'bagging_freq': 6, 'min_child_samples': 98}. Best is trial 0 with value: 0.6966205326623366.\u001b[0m\n",
      "\u001b[32m[I 2021-01-31 12:05:43,097]\u001b[0m Trial 2 finished with value: 0.6994264817598198 and parameters: {'lambda_l1': 0.01918343702312786, 'lambda_l2': 0.06061507145964506, 'num_leaves': 160, 'n_estimators': 1375, 'feature_fraction': 0.9726333823896037, 'bagging_fraction': 0.6317438857784323, 'bagging_freq': 4, 'min_child_samples': 33}. Best is trial 0 with value: 0.6966205326623366.\u001b[0m\n",
      "\u001b[32m[I 2021-01-31 12:09:55,840]\u001b[0m Trial 3 finished with value: 0.6962075832414456 and parameters: {'lambda_l1': 1.1783663255075734e-06, 'lambda_l2': 1.5587806773470125, 'num_leaves': 286, 'n_estimators': 2942, 'feature_fraction': 0.7193705637082513, 'bagging_fraction': 0.4790113483246446, 'bagging_freq': 4, 'min_child_samples': 5}. Best is trial 3 with value: 0.6962075832414456.\u001b[0m\n",
      "\u001b[32m[I 2021-01-31 12:13:14,628]\u001b[0m Trial 4 finished with value: 0.6949611615253513 and parameters: {'lambda_l1': 0.04151984387118269, 'lambda_l2': 1.0397327592044077, 'num_leaves': 219, 'n_estimators': 2862, 'feature_fraction': 0.6199913602490396, 'bagging_fraction': 0.9563375356864136, 'bagging_freq': 5, 'min_child_samples': 56}. Best is trial 4 with value: 0.6949611615253513.\u001b[0m\n",
      "\u001b[32m[I 2021-01-31 12:16:21,772]\u001b[0m Trial 5 finished with value: 0.6967644495675683 and parameters: {'lambda_l1': 0.3686036629504521, 'lambda_l2': 0.019552488101672896, 'num_leaves': 450, 'n_estimators': 1394, 'feature_fraction': 0.9947624280621166, 'bagging_fraction': 0.4801812192227328, 'bagging_freq': 7, 'min_child_samples': 17}. Best is trial 4 with value: 0.6949611615253513.\u001b[0m\n",
      "\u001b[32m[I 2021-01-31 12:20:26,429]\u001b[0m Trial 6 finished with value: 0.7003945586310989 and parameters: {'lambda_l1': 0.036639372901604635, 'lambda_l2': 3.031838881595904, 'num_leaves': 398, 'n_estimators': 1868, 'feature_fraction': 0.6182426388229039, 'bagging_fraction': 0.890820933378503, 'bagging_freq': 1, 'min_child_samples': 91}. Best is trial 4 with value: 0.6949611615253513.\u001b[0m\n",
      "\u001b[32m[I 2021-01-31 12:22:41,520]\u001b[0m Trial 7 finished with value: 0.693323470317844 and parameters: {'lambda_l1': 7.503057673677594e-05, 'lambda_l2': 6.149782129041217e-05, 'num_leaves': 348, 'n_estimators': 1148, 'feature_fraction': 0.5294521356189122, 'bagging_fraction': 0.4921220765095396, 'bagging_freq': 1, 'min_child_samples': 82}. Best is trial 7 with value: 0.693323470317844.\u001b[0m\n",
      "\u001b[32m[I 2021-01-31 12:25:32,001]\u001b[0m Trial 8 finished with value: 0.6980029109150448 and parameters: {'lambda_l1': 6.869055456909293e-05, 'lambda_l2': 0.0009513864054031107, 'num_leaves': 211, 'n_estimators': 2113, 'feature_fraction': 0.9771291252694632, 'bagging_fraction': 0.5536644090417298, 'bagging_freq': 7, 'min_child_samples': 84}. Best is trial 7 with value: 0.693323470317844.\u001b[0m\n",
      "\u001b[32m[I 2021-01-31 12:30:26,033]\u001b[0m Trial 9 finished with value: 0.6937886976373929 and parameters: {'lambda_l1': 1.1400391669641804e-06, 'lambda_l2': 2.7196101544118676e-06, 'num_leaves': 474, 'n_estimators': 2573, 'feature_fraction': 0.6012234190148116, 'bagging_fraction': 0.8348947646092013, 'bagging_freq': 4, 'min_child_samples': 67}. Best is trial 7 with value: 0.693323470317844.\u001b[0m\n",
      "\u001b[32m[I 2021-01-31 12:32:07,627]\u001b[0m Trial 10 finished with value: 0.6908095699684338 and parameters: {'lambda_l1': 9.13896277171559, 'lambda_l2': 1.1206649989321402e-05, 'num_leaves': 338, 'n_estimators': 825, 'feature_fraction': 0.41317513422837376, 'bagging_fraction': 0.7766613375334941, 'bagging_freq': 2, 'min_child_samples': 69}. Best is trial 10 with value: 0.6908095699684338.\u001b[0m\n",
      "\u001b[32m[I 2021-01-31 12:33:35,711]\u001b[0m Trial 11 finished with value: 0.7011811670099828 and parameters: {'lambda_l1': 0.0005723285101720917, 'lambda_l2': 1.8504941049272386e-05, 'num_leaves': 332, 'n_estimators': 766, 'feature_fraction': 0.4191456797763409, 'bagging_fraction': 0.7744257787545956, 'bagging_freq': 2, 'min_child_samples': 68}. Best is trial 10 with value: 0.6908095699684338.\u001b[0m\n",
      "\u001b[32m[I 2021-01-31 12:35:04,745]\u001b[0m Trial 12 finished with value: 0.6952629169206984 and parameters: {'lambda_l1': 0.00026429476636171604, 'lambda_l2': 0.00012895805241730098, 'num_leaves': 348, 'n_estimators': 707, 'feature_fraction': 0.4077967120279897, 'bagging_fraction': 0.7394928089370464, 'bagging_freq': 1, 'min_child_samples': 44}. Best is trial 10 with value: 0.6908095699684338.\u001b[0m\n",
      "\u001b[32m[I 2021-01-31 12:37:06,511]\u001b[0m Trial 13 finished with value: 0.7002502451323074 and parameters: {'lambda_l1': 5.5415533189696715, 'lambda_l2': 1.213420375199967e-07, 'num_leaves': 379, 'n_estimators': 1033, 'feature_fraction': 0.48546474800554584, 'bagging_fraction': 0.4081490818860416, 'bagging_freq': 2, 'min_child_samples': 72}. Best is trial 10 with value: 0.6908095699684338.\u001b[0m\n",
      "\u001b[32m[I 2021-01-31 12:38:54,020]\u001b[0m Trial 14 finished with value: 0.6978771863599228 and parameters: {'lambda_l1': 1.6409410481605596e-08, 'lambda_l2': 0.0007527744290259774, 'num_leaves': 297, 'n_estimators': 1001, 'feature_fraction': 0.5028352505804287, 'bagging_fraction': 0.9973269614147429, 'bagging_freq': 3, 'min_child_samples': 54}. Best is trial 10 with value: 0.6908095699684338.\u001b[0m\n",
      "\u001b[32m[I 2021-01-31 12:41:33,808]\u001b[0m Trial 15 finished with value: 0.6964051644254869 and parameters: {'lambda_l1': 0.002370108140172043, 'lambda_l2': 2.5249891905321112e-05, 'num_leaves': 507, 'n_estimators': 1062, 'feature_fraction': 0.42339673757771895, 'bagging_fraction': 0.833235329523894, 'bagging_freq': 1, 'min_child_samples': 100}. Best is trial 10 with value: 0.6908095699684338.\u001b[0m\n",
      "\u001b[32m[I 2021-01-31 12:43:16,423]\u001b[0m Trial 16 finished with value: 0.6969590720277937 and parameters: {'lambda_l1': 6.038797451151379, 'lambda_l2': 4.8200311199363066e-08, 'num_leaves': 419, 'n_estimators': 779, 'feature_fraction': 0.5545450823212372, 'bagging_fraction': 0.5658564109863532, 'bagging_freq': 3, 'min_child_samples': 77}. Best is trial 10 with value: 0.6908095699684338.\u001b[0m\n",
      "\u001b[32m[I 2021-01-31 12:45:04,638]\u001b[0m Trial 17 finished with value: 0.698717690308695 and parameters: {'lambda_l1': 2.4342000496075205e-05, 'lambda_l2': 5.079845168845365e-06, 'num_leaves': 231, 'n_estimators': 1224, 'feature_fraction': 0.7692217524283714, 'bagging_fraction': 0.4151884100501966, 'bagging_freq': 3, 'min_child_samples': 61}. Best is trial 10 with value: 0.6908095699684338.\u001b[0m\n",
      "\u001b[32m[I 2021-01-31 12:48:39,206]\u001b[0m Trial 18 finished with value: 0.6977293083727247 and parameters: {'lambda_l1': 1.7980352493868115e-07, 'lambda_l2': 0.008597599988321873, 'num_leaves': 341, 'n_estimators': 2032, 'feature_fraction': 0.4546736326244339, 'bagging_fraction': 0.7438018579123211, 'bagging_freq': 1, 'min_child_samples': 41}. Best is trial 10 with value: 0.6908095699684338.\u001b[0m\n",
      "\u001b[32m[I 2021-01-31 12:50:00,562]\u001b[0m Trial 19 finished with value: 0.6983050029069896 and parameters: {'lambda_l1': 0.0024664927046054654, 'lambda_l2': 9.872111806265727e-05, 'num_leaves': 285, 'n_estimators': 706, 'feature_fraction': 0.5583690366256002, 'bagging_fraction': 0.8230364910420525, 'bagging_freq': 2, 'min_child_samples': 79}. Best is trial 10 with value: 0.6908095699684338.\u001b[0m\n"
     ]
    },
    {
     "name": "stdout",
     "output_type": "stream",
     "text": [
      "Best trial: score 0.6908095699684338,\n",
      "params {'lambda_l1': 9.13896277171559, 'lambda_l2': 1.1206649989321402e-05, 'num_leaves': 338, 'n_estimators': 825, 'feature_fraction': 0.41317513422837376, 'bagging_fraction': 0.7766613375334941, 'bagging_freq': 2, 'min_child_samples': 69}\n"
     ]
    }
   ],
   "source": [
    "study = optuna.create_study(direction='minimize',sampler=TPESampler())\n",
    "study.optimize(lambda trial : objectiveLGBM(trial, X, y, X_test), n_trials=20)\n",
    "print('Best trial: score {},\\nparams {}'.format(study.best_trial.value,study.best_trial.params))\n",
    "\n",
    "best_param2 = study.best_trial.params\n",
    "lgbm = LGBMRegressor(**best_param2, device=\"gpu\",gpu_use_dp=True, objective='regression', metric='root_mean_squared_error',  learning_rate= 0.01, boosting_type='gbdt')\n",
    "\n",
    "# Best trial: score 0.6934602592622415,\n",
    "# params {'lambda_l1': 4.168316306871167e-05, 'lambda_l2': 1.1288557039193647e-05, 'num_leaves': 98, 'n_estimators': 2280, 'feature_fraction': 0.7977209715952681, 'bagging_fraction': 0.4353577523638581, 'bagging_freq': 4, 'min_child_samples': 69}"
   ]
  },
  {
   "cell_type": "code",
   "execution_count": 9,
   "metadata": {
    "execution": {
     "iopub.execute_input": "2021-01-31T12:50:00.703892Z",
     "iopub.status.busy": "2021-01-31T12:50:00.703101Z",
     "iopub.status.idle": "2021-01-31T13:10:58.909329Z",
     "shell.execute_reply": "2021-01-31T13:10:58.909842Z"
    },
    "papermill": {
     "duration": 1258.257938,
     "end_time": "2021-01-31T13:10:58.910027",
     "exception": false,
     "start_time": "2021-01-31T12:50:00.652089",
     "status": "completed"
    },
    "tags": []
   },
   "outputs": [
    {
     "name": "stderr",
     "output_type": "stream",
     "text": [
      "/opt/conda/lib/python3.7/site-packages/sklearn/model_selection/_split.py:297: FutureWarning: Setting a random_state has no effect since shuffle is False. This will raise an error in 0.24. You should leave random_state to its default (None), or set shuffle=True.\n",
      "  FutureWarning\n"
     ]
    },
    {
     "name": "stdout",
     "output_type": "stream",
     "text": [
      "task:         [regression]\n",
      "metric:       [mean_squared_error]\n",
      "mode:         [oof_pred_bag]\n",
      "n_models:     [5]\n",
      "\n",
      "model  0:     [LGBMRegressor]\n",
      "    fold  0:  [0.48895248]\n",
      "    fold  1:  [0.48742877]\n",
      "    fold  2:  [0.48392999]\n",
      "    fold  3:  [0.48360045]\n",
      "    fold  4:  [0.48409103]\n",
      "    ----\n",
      "    MEAN:     [0.48560055] + [0.00217475]\n",
      "    FULL:     [0.48560055]\n",
      "\n",
      "model  1:     [CatBoostRegressor]\n",
      "    fold  0:  [0.51095145]\n",
      "    fold  1:  [0.50854355]\n",
      "    fold  2:  [0.50425050]\n",
      "    fold  3:  [0.50109258]\n",
      "    fold  4:  [0.50131361]\n",
      "    ----\n",
      "    MEAN:     [0.50523034] + [0.00392760]\n",
      "    FULL:     [0.50523034]\n",
      "\n",
      "model  2:     [SGDRegressor]\n",
      "    fold  0:  [0.53226601]\n",
      "    fold  1:  [0.52932436]\n",
      "    fold  2:  [0.52919457]\n",
      "    fold  3:  [0.52505756]\n",
      "    fold  4:  [0.52478973]\n",
      "    ----\n",
      "    MEAN:     [0.52812644] + [0.00283773]\n",
      "    FULL:     [0.52812644]\n",
      "\n",
      "model  3:     [HistGradientBoostingRegressor]\n",
      "    fold  0:  [0.51027910]\n",
      "    fold  1:  [0.50796183]\n",
      "    fold  2:  [0.50614704]\n",
      "    fold  3:  [0.50462725]\n",
      "    fold  4:  [0.50417062]\n",
      "    ----\n",
      "    MEAN:     [0.50663717] + [0.00225310]\n",
      "    FULL:     [0.50663717]\n",
      "\n",
      "model  4:     [XGBRegressor]\n",
      "    fold  0:  [0.48842847]\n",
      "    fold  1:  [0.48704542]\n",
      "    fold  2:  [0.48337367]\n",
      "    fold  3:  [0.48344787]\n",
      "    fold  4:  [0.48386448]\n",
      "    ----\n",
      "    MEAN:     [0.48523198] + [0.00209822]\n",
      "    FULL:     [0.48523198]\n",
      "\n",
      "0.040654579526564295\n"
     ]
    }
   ],
   "source": [
    "from vecstack import stacking\n",
    "\n",
    "final_model = xgb.XGBRegressor(n_estimators= 2000, max_depth= 16,tree_method='gpu_hist', predictor='gpu_predictor')\n",
    "sgd = SGDRegressor(max_iter=1000)\n",
    "hgb = HistGradientBoostingRegressor( max_depth=3, min_samples_leaf=1)\n",
    "cat = CatBoostRegressor(task_type=\"GPU\", verbose=False)\n",
    "\n",
    "estimators = [\n",
    "    lgbm, cat, sgd, hgb, xgbReg\n",
    "]\n",
    "\n",
    "S_train, S_test = stacking(estimators,  X, y, X_test, regression=True, metric=mean_squared_error, n_folds=5, \n",
    "                           shuffle=False, random_state=0, verbose=2)\n",
    "final_model.fit(S_train, y)\n",
    "\n",
    "print(mean_squared_error(final_model.predict(S_train), y, squared=False))"
   ]
  },
  {
   "cell_type": "code",
   "execution_count": 10,
   "metadata": {
    "execution": {
     "iopub.execute_input": "2021-01-31T13:10:59.019687Z",
     "iopub.status.busy": "2021-01-31T13:10:59.018879Z",
     "iopub.status.idle": "2021-01-31T13:11:01.877705Z",
     "shell.execute_reply": "2021-01-31T13:11:01.878192Z"
    },
    "papermill": {
     "duration": 2.920554,
     "end_time": "2021-01-31T13:11:01.878331",
     "exception": false,
     "start_time": "2021-01-31T13:10:58.957777",
     "status": "completed"
    },
    "tags": []
   },
   "outputs": [
    {
     "data": {
      "text/plain": [
       "['/kaggle/working/skacking.pkl']"
      ]
     },
     "execution_count": 10,
     "metadata": {},
     "output_type": "execute_result"
    }
   ],
   "source": [
    "submission = pd.read_csv(\"/kaggle/input/tabular-playground-series-jan-2021/test.csv\", index_col=[\"id\"])\n",
    "y_hat = final_model.predict(S_test)        \n",
    "\n",
    "submission[\"target\"] = y_hat \n",
    "submission[[\"target\"]].to_csv(\"/kaggle/working/submission_stacking.csv\")\n",
    "joblib.dump(final_model, '/kaggle/working/skacking.pkl')"
   ]
  },
  {
   "cell_type": "code",
   "execution_count": 11,
   "metadata": {
    "execution": {
     "iopub.execute_input": "2021-01-31T13:11:01.985522Z",
     "iopub.status.busy": "2021-01-31T13:11:01.984661Z",
     "iopub.status.idle": "2021-01-31T13:15:05.734317Z",
     "shell.execute_reply": "2021-01-31T13:15:05.734845Z"
    },
    "papermill": {
     "duration": 243.808788,
     "end_time": "2021-01-31T13:15:05.734995",
     "exception": false,
     "start_time": "2021-01-31T13:11:01.926207",
     "status": "completed"
    },
    "tags": []
   },
   "outputs": [
    {
     "name": "stdout",
     "output_type": "stream",
     "text": [
      "0.6632514386518857\n"
     ]
    },
    {
     "data": {
      "text/plain": [
       "['/kaggle/working/lgbm.pkl']"
      ]
     },
     "execution_count": 11,
     "metadata": {},
     "output_type": "execute_result"
    }
   ],
   "source": [
    "submission = pd.read_csv(\"/kaggle/input/tabular-playground-series-jan-2021/test.csv\", index_col=[\"id\"])\n",
    "lgbm = LGBMRegressor(**best_param2, device=\"gpu\",gpu_use_dp=True, objective='regression', learning_rate= 0.01, metric='root_mean_squared_error', boosting_type='gbdt')\n",
    "lgbm = lgbm.fit(X, y, verbose=False)\n",
    "y_hat = lgbm.predict(submission.to_numpy())        \n",
    "print(mean_squared_error(lgbm.predict(X), y, squared=False))\n",
    "submission[\"target\"] = y_hat \n",
    "submission[[\"target\"]].to_csv(\"/kaggle/working/submission_lgbm.csv\")\n",
    "joblib.dump(lgbm, '/kaggle/working/lgbm.pkl')"
   ]
  },
  {
   "cell_type": "code",
   "execution_count": 12,
   "metadata": {
    "execution": {
     "iopub.execute_input": "2021-01-31T13:15:05.846189Z",
     "iopub.status.busy": "2021-01-31T13:15:05.845293Z",
     "iopub.status.idle": "2021-01-31T13:15:28.840381Z",
     "shell.execute_reply": "2021-01-31T13:15:28.839338Z"
    },
    "papermill": {
     "duration": 23.054885,
     "end_time": "2021-01-31T13:15:28.840515",
     "exception": false,
     "start_time": "2021-01-31T13:15:05.785630",
     "status": "completed"
    },
    "tags": []
   },
   "outputs": [
    {
     "name": "stdout",
     "output_type": "stream",
     "text": [
      "0.6635022057160923\n",
      "0.6666673015230643\n"
     ]
    },
    {
     "data": {
      "text/plain": [
       "['/kaggle/working/xgb_reg.pkl']"
      ]
     },
     "execution_count": 12,
     "metadata": {},
     "output_type": "execute_result"
    }
   ],
   "source": [
    "submission = pd.read_csv(\"/kaggle/input/tabular-playground-series-jan-2021/test.csv\", index_col=[\"id\"])\n",
    "params =  {'n_estimators': 3520, 'max_depth': 11, 'min_child_weight': 231, 'gamma': 2, 'colsample_bytree': 0.7, 'lambda': 0.014950936465569798, 'alpha': 0.28520156840812494, 'subsample': 0.6}\n",
    "xgbReg = train(xgb.XGBRegressor(**params, tree_method='gpu_hist', random_state=42, predictor='gpu_predictor', learning_rate=0.01, nthread=-1))\n",
    "\n",
    "y_hat = xgbReg.predict(submission.to_numpy())        \n",
    "print(mean_squared_error(xgbReg.predict(X), y, squared=False))\n",
    "\n",
    "submission[\"target\"] = y_hat \n",
    "submission[[\"target\"]].to_csv(\"/kaggle/working/submission_xgb.csv\")\n",
    "joblib.dump(xgbReg, '/kaggle/working/xgb_reg.pkl')"
   ]
  }
 ],
 "metadata": {
  "kernelspec": {
   "display_name": "Python 3",
   "language": "python",
   "name": "python3"
  },
  "language_info": {
   "codemirror_mode": {
    "name": "ipython",
    "version": 3
   },
   "file_extension": ".py",
   "mimetype": "text/x-python",
   "name": "python",
   "nbconvert_exporter": "python",
   "pygments_lexer": "ipython3",
   "version": "3.7.6"
  },
  "papermill": {
   "duration": 5814.134527,
   "end_time": "2021-01-31T13:15:29.301782",
   "environment_variables": {},
   "exception": null,
   "input_path": "__notebook__.ipynb",
   "output_path": "__notebook__.ipynb",
   "parameters": {},
   "start_time": "2021-01-31T11:38:35.167255",
   "version": "2.1.0"
  }
 },
 "nbformat": 4,
 "nbformat_minor": 4
}
